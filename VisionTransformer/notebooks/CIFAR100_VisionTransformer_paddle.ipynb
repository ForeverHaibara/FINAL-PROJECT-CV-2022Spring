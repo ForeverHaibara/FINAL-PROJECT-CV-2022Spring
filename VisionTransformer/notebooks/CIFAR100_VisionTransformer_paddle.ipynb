{
 "cells": [
  {
   "cell_type": "markdown",
   "metadata": {
    "collapsed": false
   },
   "source": [
    "<h1>Vision Transformer</h1>\n",
    "\n",
    "In this notebook we implement the vision transformer by paddlepaddle on CIFAR100. 在本笔记本中我们在CIFAR100数据集上利用飞桨实现 Vision Transformer.\n",
    "\n",
    "Author:      [个人主页](https://aistudio.baidu.com/aistudio/personalcenter/thirdview/550143) $\\quad$\n",
    "[GitHub](https://github.com/ForeverHaibara)\n",
    "\n",
    "Original paper: [An Image is Worth 16x16 Words: Transformers for Image Recognition at Scale](https://arxiv.org/abs/2010.11929)\n",
    "\n",
    "Top1 Acc 预测准确率 $\\approx 50\\%$\n",
    "\n",
    "Time 执行时间 $\\approx 25{\\rm \\ min}$"
   ]
  },
  {
   "cell_type": "code",
   "execution_count": 28,
   "metadata": {
    "collapsed": false
   },
   "outputs": [],
   "source": [
    "import numpy as np\n",
    "import paddle \n",
    "from matplotlib import pyplot as plt \n",
    "from tqdm import tqdm "
   ]
  },
  {
   "cell_type": "markdown",
   "metadata": {
    "collapsed": false
   },
   "source": [
    "<h2>Data Preparation</h2>\n",
    "\n",
    "Load the CIFAR100 data from the cifar-100-python.tar.gz and we implement the CutMix for data augmentation. 从 cifar-100-python.tar.gz 中加载数据集并实现 CutMix 的数据增强."
   ]
  },
  {
   "cell_type": "code",
   "execution_count": null,
   "metadata": {
    "collapsed": false
   },
   "outputs": [],
   "source": [
    "#!gzip -dfq /home/aistudio/data/data76994/cifar-100-python.tar.gz\n",
    "#!tar -xf /home/aistudio/data/data76994/cifar-100-python.tar"
   ]
  },
  {
   "cell_type": "code",
   "execution_count": null,
   "metadata": {
    "collapsed": false
   },
   "outputs": [],
   "source": [
    "def load_data(path):\n",
    "    import os\n",
    "    import pickle\n",
    "    with open(os.path.join(path,'train'), 'rb') as f:\n",
    "        data_train = pickle.load(f, encoding='latin1')\n",
    "    with open(os.path.join(path,'test'), 'rb') as f:\n",
    "        data_test = pickle.load(f, encoding='latin1')\n",
    "    with open(os.path.join(path,'meta'), 'rb') as f:\n",
    "        data_meta = pickle.load(f, encoding='latin1')\n",
    "    return data_train, data_test, data_meta\n",
    "\n",
    "data_train, data_test, data_meta = load_data('cifar-100-python')\n",
    "data_train['data'] = data_train['data'].reshape((data_train['data'].shape[0], 3, 32, 32)).transpose((0,2,3,1))\n",
    "data_test['data'] = data_test['data'].reshape((data_test['data'].shape[0], 3, 32, 32)).transpose((0,2,3,1))"
   ]
  },
  {
   "cell_type": "code",
   "execution_count": null,
   "metadata": {
    "collapsed": false
   },
   "outputs": [
    {
     "data": {
      "image/png": "[encoded data removed]",
      "text/plain": [
       "<Figure size 432x288 with 1 Axes>"
      ]
     },
     "metadata": {},
     "output_type": "display_data"
    }
   ],
   "source": [
    "# see an example\n",
    "plt.imshow(data_train['data'][0])\n",
    "plt.show()"
   ]
  },
  {
   "cell_type": "code",
   "execution_count": 26,
   "metadata": {
    "collapsed": false
   },
   "outputs": [],
   "source": [
    "import numpy as np\n",
    "import paddle\n",
    "from tqdm import tqdm \n",
    "from PIL import Image \n",
    "def augmentate(pics, labels = None, resize = (224, 224), augmentation = False, \n",
    "                cut = False, mix = False, grid = 0, rotate = 15):\n",
    "    '''Simple data augmentator'''\n",
    "    pics2 = []\n",
    "    n = pics.shape[0]\n",
    "    if resize is None:\n",
    "        resize = pics[0].shape \n",
    "    \n",
    "    if augmentation:\n",
    "        angles = (np.random.random(n) - .5) * (rotate * 2.)\n",
    "        flips = np.random.randint(0, 2, n)\n",
    "        for i in range(n):\n",
    "            pic = Image.fromarray(pics[i])\n",
    "            if flips[i]: pic = pic.transpose(Image.FLIP_LEFT_RIGHT)\n",
    "            pic = pic.resize(resize, Image.ANTIALIAS)\n",
    "            pic = pic.rotate(angles[i])\n",
    "            pic = np.array(pic)\n",
    "            pics2.append(pic)\n",
    "    \n",
    "        if cut and not mix:\n",
    "            # cutout\n",
    "            if not grid: grid = 1\n",
    "            cutx = np.random.randint(cut, resize[0], n) // grid * grid\n",
    "            cuty = np.random.randint(cut, resize[1], n) // grid * grid\n",
    "            for i in range(n):\n",
    "                pics2[i][cutx[i]-cut : cutx[i], \n",
    "                         cuty[i]-cut : cuty[i], : ] = 0\n",
    "            labels *= (1. - cut * cut / pics2[0].size * 3.)\n",
    "\n",
    "        elif mix and not cut:\n",
    "            # mixup\n",
    "            couple = np.arange(n)\n",
    "            np.random.shuffle(couple)\n",
    "            propotion = np.random.random(n)\n",
    "\n",
    "            # warning: do not modify in-place\n",
    "            pics3 = [propotion[i] * pics2[couple[i]] + (1 - propotion[i]) * pics2[i] \n",
    "                        for i in range(n)]\n",
    "\n",
    "            # pointer\n",
    "            pics2 = pics3 \n",
    "\n",
    "            labels = labels + (labels[couple] - labels) * propotion.reshape((n,1))\n",
    "\n",
    "        elif cut and mix:\n",
    "            # cutmix\n",
    "            couple = np.arange(n)\n",
    "            np.random.shuffle(couple)\n",
    "            if not grid:\n",
    "                propotion = np.random.random(n)\n",
    "                rw = (resize[0] * np.sqrt(propotion)).astype('uint8')\n",
    "                rh = ((resize[1] / resize[0]) * rw).astype('uint8')\n",
    "                grid = 1\n",
    "            else:\n",
    "                propotion = np.full(n, cut * cut / pics2[0].size * 3.)\n",
    "                rw = np.full(n, cut, dtype='uint8')\n",
    "                rh = np.full(n, cut, dtype='uint8')\n",
    "            \n",
    "            rx = np.random.randint(65535, size = n) % ((resize[0] - rw) // grid) * grid \n",
    "            ry = np.random.randint(65535, size = n) % ((resize[1] - rh) // grid) * grid \n",
    "\n",
    "            # warning: do not modify in-place\n",
    "            pics3 = np.array(pics2)\n",
    "            for i in range(n):\n",
    "                pics3[i][rx[i] : rx[i]+rw[i], ry[i] : ry[i]+rh[i]] = \\\n",
    "                    pics2[couple[i]][rx[i] : rx[i]+rw[i], ry[i] : ry[i]+rh[i]] \n",
    "\n",
    "            # pointer\n",
    "            pics2 = pics3\n",
    "\n",
    "            labels = labels + (labels[couple] - labels) * propotion.reshape((n,1))\n",
    "            \n",
    "    else: \n",
    "        # no augmentation but resizing\n",
    "        for i in range(pics.shape[0]):\n",
    "            pic = Image.fromarray(pics[i])\n",
    "            pic = pic.resize(resize, Image.ANTIALIAS)\n",
    "            pic = np.array(pic)\n",
    "            pics2.append(pic)\n",
    "\n",
    "    return np.array(pics2), labels\n",
    " \n",
    "\n",
    "def dataloader(data, labels, batch_size = 128, shuffle = True, verbose = True,\n",
    "                resize = (224,224), augmentation = True, onehot = False,\n",
    "                cut = False, mix = False, grid = 0, rotate = 15):\n",
    "    order = np.arange(data.shape[0], dtype = 'int32')\n",
    "    if shuffle: np.random.shuffle(order)\n",
    "    labels = np.array(labels)\n",
    "    __eye = np.eye(np.max(labels) + 1)\n",
    "    gen = range(data.shape[0] // batch_size)\n",
    "    if verbose: gen = tqdm(gen)\n",
    "    for i in gen:\n",
    "        x = data[order[i * batch_size: i * batch_size + batch_size]]\n",
    "        l = labels[order[i * batch_size: i * batch_size + batch_size]]\n",
    "\n",
    "        # extract the onehot encoding\n",
    "        l = __eye[l]\n",
    "\n",
    "        # augmentate the data\n",
    "        x , l = augmentate(x, l, resize = resize, augmentation = augmentation, \n",
    "                            cut = cut, mix = mix, grid = grid, rotate = rotate)\n",
    "\n",
    "        # transpose the dimensions to match (N,C,H,W)\n",
    "        x = x.transpose((0,3,1,2))\n",
    "        x = paddle.to_tensor(x, dtype = 'float32') / 255.\n",
    "\n",
    "        # retrieve the non-onehot encoding if asked\n",
    "        if not onehot:\n",
    "            l = labels[order[i * batch_size: i * batch_size + batch_size]]\n",
    "        yield x , l\n",
    "\n",
    "\n",
    "def topk(y, labels, top):\n",
    "    '''compute the number of hits in the top-k prediction'''\n",
    "    topy = np.argpartition(y, -top, axis=-1)[:,-top:]\n",
    "    topy -= labels.reshape((labels.shape[0], 1))\n",
    "    return topy.size - np.count_nonzero(topy)\n",
    "\n",
    "\n",
    "def test(net, data, batch_size = 100, resize = (224,224), tops = [1,5],\n",
    "            verbose = False, label = 'fine', augmentation = False):\n",
    "    accs = [0] * len(tops)\n",
    "    tops.sort()\n",
    "    for x, labels in dataloader(data['data'], data[f'{label}_labels'], resize = resize, \n",
    "                                  batch_size = batch_size, shuffle = False, verbose = verbose,\n",
    "                                  augmentation = augmentation):\n",
    "        y = net(x).numpy()\n",
    "        labels = np.array(labels)\n",
    "        for i in range(len(tops)):\n",
    "            t = topk(y, labels, tops[i])\n",
    "            accs[i] += topk(y, labels, tops[i])\n",
    "    return np.array(accs) / data['data'].shape[0]"
   ]
  },
  {
   "cell_type": "code",
   "execution_count": null,
   "metadata": {
    "collapsed": false
   },
   "outputs": [
    {
     "data": {
      "image/png": "[encoded data removed]",
      "text/plain": [
       "<Figure size 360x360 with 1 Axes>"
      ]
     },
     "metadata": {},
     "output_type": "display_data"
    }
   ],
   "source": [
    "# visualize CutMix\n",
    "resize = (224, 224)\n",
    "cut = 128\n",
    "grid = 32\n",
    "plt.figure(figsize=(5,5))\n",
    "for x, labels in dataloader(data_train['data'], data_train['fine_labels'], verbose = False, \n",
    "                            resize = (224, 224), cut = cut, mix = 1, grid = 0, onehot = True):\n",
    "    plt.imshow(x[0].transpose((1,2,0)))\n",
    "    plt.title(''.join([('%.2f %s, '%(p, data_meta['fine_label_names'][index]) if p > 0 else '')\n",
    "                            for index, p in enumerate(labels[0])])[:-2] )\n",
    "    ax = plt.gca()\n",
    "    ax.set_xticks(np.arange(-1, resize[0], grid))\n",
    "    ax.set_yticks(np.arange(-1, resize[1], grid))\n",
    "    ax.set_xticklabels(np.arange(0, resize[0]+1, grid))\n",
    "    ax.set_yticklabels(np.arange(0, resize[1]+1, grid))\n",
    "    plt.grid()\n",
    "    break"
   ]
  },
  {
   "cell_type": "markdown",
   "metadata": {
    "collapsed": false
   },
   "source": [
    "<h2>Transformer</h2>\n",
    "\n",
    "Build a vision transformer (vit). 搭建 Vision Transformer."
   ]
  },
  {
   "cell_type": "code",
   "execution_count": null,
   "metadata": {
    "collapsed": false
   },
   "outputs": [],
   "source": [
    "# Reproduce of vision transformer in paddlepaddle\n",
    "\n",
    "import paddle   \n",
    "import numpy as np\n",
    "\n",
    "# class Encoder\n",
    "# class MultiheadAttention\n",
    "# class MLP\n",
    "# class VisionTransformer\n",
    "\n",
    "\n",
    "class Encoder(paddle.nn.Layer):\n",
    "    def __init__(self, channels, hidden_size, num_heads = 3, linear_dropout = .1, attention_dropout = .1):\n",
    "        # num_heads == patch_num\n",
    "        super().__init__()\n",
    "        \n",
    "        self.layer_norm1 = paddle.nn.LayerNorm(channels)\n",
    "\n",
    "        # self.attention   = paddle.nn.MultiHeadAttention(\n",
    "        #                                 embed_dim = channels, \n",
    "        #                                 num_heads = num_heads, \n",
    "        #                                 dropout = attention_dropout)\n",
    "\n",
    "        self.attention   =  MultiheadAttention(\n",
    "                                        embed_dim = channels, \n",
    "                                        num_heads = num_heads, \n",
    "                                        dropout = attention_dropout)\n",
    "\n",
    "        self.layer_norm2 = paddle.nn.LayerNorm(channels)\n",
    "\n",
    "        self.mlp         = MLPLayer(channels, hidden_size, dropout = linear_dropout)\n",
    "\n",
    "\n",
    "    def forward(self, x):\n",
    "        y = self.layer_norm1(x)\n",
    "        y = self.attention(y)\n",
    "\n",
    "        x = x + y \n",
    "\n",
    "        y = self.layer_norm2(x) \n",
    "        y = self.mlp(x) \n",
    "\n",
    "        return x + y\n",
    "\n",
    "\n",
    "\n",
    "class MultiheadAttention(paddle.nn.Layer):\n",
    "    def __init__(self, num_heads = 3, embed_dim = 192, dropout = 0.):\n",
    "        super().__init__() \n",
    "        \n",
    "        assert embed_dim % num_heads == 0, 'Embedding dimension must be divisible by number of heads.'\n",
    "\n",
    "        self.num_heads = num_heads\n",
    "        \n",
    "        # map the input to qkv\n",
    "        self.qkv = paddle.nn.Linear(embed_dim, embed_dim * 3)\n",
    "\n",
    "        self.dropout = paddle.nn.Dropout(dropout)\n",
    "\n",
    "        self.attention = None\n",
    "    \n",
    "    def forward(self, x):\n",
    "        n, length, embed_dim = x.shape\n",
    "\n",
    "        # map the input to qkv\n",
    "        # [n, length, embed_dim] -> [n, length, embed_dim * 3]\n",
    "        x = self.qkv(x) \n",
    "\n",
    "        # partition x into qkv and distribute embeddings to heads\n",
    "        # [n, length, embed_dim * 3] -> [3, n, heads, length, embed_dim / heads]\n",
    "        x = x.reshape((n, length, 3, self.num_heads, embed_dim // self.num_heads))\n",
    "        x = x.transpose((2, 0, 3, 1, 4))\n",
    "            \n",
    "        q, k, v = x[0], x[1], x[2]\n",
    "\n",
    "        # first matmul (remember to transpose k)\n",
    "        attention = paddle.matmul(q, k.transpose((0,1,3,2)))\n",
    "\n",
    "        # scale the attention\n",
    "        attention = attention * (q.shape[-1] ** -0.5)\n",
    "\n",
    "        # softmax \n",
    "        # we store it because it is useful when visualizing\n",
    "        self.attention = paddle.nn.Softmax(axis = -1)(attention)\n",
    "\n",
    "        # dropout\n",
    "        attention = self.dropout(self.attention)\n",
    "\n",
    "        # second matmul, shape = [n, heads, length, embed_dim / heads]\n",
    "        x = paddle.matmul(attention, v)\n",
    "\n",
    "        # restore shape\n",
    "        # [n, heads, length, embed_dim / heads] -> [n, length, embed_dim]\n",
    "        x = x.transpose((0, 2, 1, 3)).reshape((n, length, embed_dim))\n",
    "\n",
    "        return x\n",
    "\n",
    "\n",
    "\n",
    "class MLPLayer(paddle.nn.Layer):\n",
    "    def __init__(self, input_size, hidden_size, output_size = None, dropout = .1):\n",
    "        \"\"\"An MLP layer consists of two linear layers followed with dropout.\"\"\"\n",
    "        super().__init__()\n",
    "\n",
    "        output_size   = output_size or input_size \n",
    "        \n",
    "        self.dense1   = paddle.nn.Linear(input_size, hidden_size, \n",
    "                                        weight_attr = paddle.nn.initializer.XavierUniform())\n",
    "        self.act1     = paddle.nn.LeakyReLU()\n",
    "        self.dropout1 = paddle.nn.Dropout(dropout)\n",
    "\n",
    "\n",
    "        self.dense2   = paddle.nn.Linear(hidden_size, output_size, \n",
    "                                        weight_attr = paddle.nn.initializer.XavierUniform()) \n",
    "        #self.act2     = paddle.nn.LeakyReLU()\n",
    "        self.dropout2 = paddle.nn.Dropout(dropout)\n",
    "\n",
    "\n",
    "    def forward(self, x):\n",
    "        x = self.dense1(x)\n",
    "        x = self.act1(x)\n",
    "        x = self.dropout1(x)\n",
    "\n",
    "        x = self.dense2(x)\n",
    "        # x = self.act2(x)\n",
    "        x = self.dropout2(x)\n",
    "\n",
    "        return x\n",
    "\n",
    "\n",
    "\n",
    "class VisionTransformer(paddle.nn.Layer):\n",
    "    def __init__(self, input_size = 224, output_size = 100,\n",
    "                        channels = 192, hidden_size = 768,\n",
    "                        patch_size = 16, \n",
    "                        num_heads = 3, encode_layers = 12, \n",
    "                        pos_encoding = True,\n",
    "                        linear_dropout = 0., attention_dropout = 0., encoding_dropout = 0.):\n",
    "        \"\"\"\n",
    "        Vision Transformer\n",
    "\n",
    "        Parameters\n",
    "        --------\n",
    "        input_size   : int, the input image should be of size input_size * input_size\n",
    "        output_size  : int, the number of classes to classify\n",
    "        channels     : int, the embedding dimension\n",
    "        hidden_size  : int, the size of hidden layer in MLP\n",
    "        patch_size   : int, the size of a patch\n",
    "        num_heads    : int, number of heads\n",
    "        encode_layers: int, number of encoders\n",
    "        pos_encoding : bool, whether or not use the positional encoding\n",
    "        linear_dropout   : float, dropout rate in MLP\n",
    "        attention_dropout: float, dropout rate in multihead attention\n",
    "        encoding_dropout : float, dropout rate after positional encoding\n",
    "\n",
    "\n",
    "        Reference: \n",
    "        https://arxiv.org/abs/2010.11929 \n",
    "        \"\"\"\n",
    "        super().__init__()\n",
    "\n",
    "        assert input_size % patch_size == 0, 'Input size must be divisible by patch size.'\n",
    "        self.input_size = input_size\n",
    "        self.patch_size = patch_size\n",
    "\n",
    "        # convolution on each patch is the projection\n",
    "        self.proj = paddle.nn.Conv2D(in_channels = 3, out_channels = channels,\n",
    "                                     kernel_size = patch_size, stride = patch_size,\n",
    "                                     padding = 'VALID')\n",
    "\n",
    "        # num of patches\n",
    "        patch_num = (input_size // patch_size) ** 2 \n",
    "\n",
    "        # class tokens and (learnable) positional encodings\n",
    "        self.params = paddle.nn.ParameterList(\n",
    "                        [paddle.create_parameter((1, 1, channels),dtype = 'float32'),\n",
    "                         paddle.create_parameter((1, patch_num + 1, channels),dtype = 'float32')]\n",
    "                                                )\n",
    "        self.cls_token = self.params[0]\n",
    "        self.pos_encoding = pos_encoding and self.params[1]\n",
    "\n",
    "        self.dropout = paddle.nn.Dropout(encoding_dropout)\n",
    "\n",
    "        self.encoders = paddle.nn.LayerList(\n",
    "                                [Encoder(channels  = channels,\n",
    "                                 hidden_size       = hidden_size,\n",
    "                                 num_heads         = num_heads,\n",
    "                                 linear_dropout    = linear_dropout,\n",
    "                                 attention_dropout = attention_dropout) for _ in range(encode_layers)]\n",
    "                                            )\n",
    "        \n",
    "        self.layer_norm = paddle.nn.LayerNorm(channels)\n",
    "\n",
    "        self.head = paddle.nn.Linear(channels, output_size)\n",
    "\n",
    "\n",
    "    def forward(self, x):\n",
    "        \"\"\"Input: paddle tensor x with shape [batch_size, 3, height, width]\"\"\"\n",
    "    \n",
    "        # [batch_size, 3, height, width] -> [batch_size, channels, patch_x, patch_y] by conv\n",
    "        x = self.proj(x)  \n",
    "\n",
    "        # [batch_size, channels, patch_x, patch_y] -> [batch_size, channels, patch_num]\n",
    "        x = paddle.flatten(x, 2, 3)\n",
    "\n",
    "        # [batch_size, channels, patch_num] -> [batch_size, patch_num, channels]\n",
    "        x = x.transpose((0,2,1))\n",
    "        \n",
    "        # [batch_size, patch_num, channels] -> [batch_size, patch_num + 1, channels]\n",
    "        cls = paddle.tile(self.cls_token, (x.shape[0], 1, 1))\n",
    "        x = paddle.concat([cls, x], axis = 1)\n",
    "\n",
    "        # positional encoding\n",
    "        if self.pos_encoding is not None:\n",
    "            x = x + self.pos_encoding\n",
    "        x = self.dropout(x)\n",
    "        \n",
    "        # encoders\n",
    "        for i in range(len(self.encoders)):\n",
    "            x = self.encoders[i](x)\n",
    "        \n",
    "        # layernorm\n",
    "        x = self.layer_norm(x)\n",
    "\n",
    "        # reserve the first \"patch\"\n",
    "        x = x[:, 0]\n",
    "\n",
    "        # linear classifier\n",
    "        x = self.head(x)\n",
    "\n",
    "        return x\n",
    "\n",
    "\n",
    "    def visualize(self, x, layer = 0, dtype = 'int'):\n",
    "        \"\"\"\n",
    "        Visualize the attention-guided image of some x with some of the encoders.\n",
    "\n",
    "        Parameters\n",
    "        --------\n",
    "        x    : 4darray, input images with [N,C,H,W] format (C=3) and entries in [0,1]\n",
    "        layer: int, the index of attention map for visualization (starting from 1, defaults to the last)\n",
    "        dtype: str, 'int' or 'float' for the dtype of returned images\n",
    "\n",
    "        Returns\n",
    "        --------\n",
    "        imgs     : 4darray, [N,C,H,W] formatted rgba images (C=4)\n",
    "        attention: 3darray, [N,H,W] formatted, with entries in [0,1]\n",
    "\n",
    "        Reference:\n",
    "        https://github.com/jeonsworld/ViT-pytorch/blob/main/visualize_attention_map.ipynb \n",
    "        \"\"\"\n",
    "        \n",
    "        if not layer: layer = len(self.encoders)\n",
    "\n",
    "        # preprocessing, see details in <forward>\n",
    "        with paddle.no_grad():\n",
    "            _ = self.forward(x)\n",
    "\n",
    "        # initialization\n",
    "        attention = paddle.eye((self.input_size // self.patch_size)**2 + 1).unsqueeze(0)\n",
    "        for i in range(layer):\n",
    "            # weight size = 65 * 65\n",
    "            weight = paddle.mean(self.encoders[i].attention.attention, axis = 1)\n",
    "\n",
    "            # bias\n",
    "            weight += paddle.eye(weight.shape[-1])\n",
    "            \n",
    "            # normalize\n",
    "            weight /= paddle.tile(paddle.sum(weight, axis = -1).unsqueeze(-1), (1, 1, weight.shape[-1]))\n",
    "\n",
    "            # accumalate along the layers\n",
    "            attention = paddle.matmul(weight, attention)\n",
    "        \n",
    "        # drop the class token in the front\n",
    "        attention = attention[:, 0, 1:]\n",
    "\n",
    "        # normalize\n",
    "        attention = attention  / paddle.max(attention, axis = -1).unsqueeze(-1)\n",
    "\n",
    "        # reshape\n",
    "        attention = attention.reshape((x.shape[0], 1, \n",
    "                        self.input_size // self.patch_size, self.input_size // self.patch_size))\n",
    "\n",
    "        # tile up to restore the original size of the image by transpose2d\n",
    "        attention = paddle.nn.functional.conv2d_transpose(\n",
    "                        attention,\n",
    "                        paddle.zeros((1,3, self.patch_size, self.patch_size), dtype = 'float32') + 1,\n",
    "                        stride = self.patch_size)\n",
    "        \n",
    "        # place the attention map in the alpha channel (rgba imgs)\n",
    "        imgs = paddle.concat((x, attention[:,:1]), axis = 1)\n",
    "        imgs = imgs.transpose((0,2,3,1)).numpy()\n",
    "\n",
    "        if 'int' in dtype:\n",
    "            imgs = (imgs * 255.).clip(0, 255).astype('uint8')\n",
    "        return imgs, attention"
   ]
  },
  {
   "cell_type": "code",
   "execution_count": 22,
   "metadata": {
    "collapsed": false
   },
   "outputs": [],
   "source": [
    "resize = (32, 32)\n",
    "patch_size = 4   # resize[0] // 7\n",
    "net = VisionTransformer(input_size = resize[0], channels = 192, hidden_size = 768, encode_layers = 12,\n",
    "                num_heads = 3, patch_size = patch_size, linear_dropout = 0., attention_dropout = 0.)\n",
    "scheduler = paddle.optimizer.lr.LinearWarmup(\n",
    "        learning_rate=3e-4, warmup_steps=780, start_lr=0, end_lr=3e-4, verbose=False)\n",
    "optim = paddle.optimizer.Adam(parameters = net.parameters(), learning_rate = scheduler)\n",
    "\n",
    "losses = []\n",
    "accs = []"
   ]
  },
  {
   "cell_type": "code",
   "execution_count": 23,
   "metadata": {
    "collapsed": false
   },
   "outputs": [
    {
     "name": "stderr",
     "output_type": "stream",
     "text": [
      "100%|██████████| 195/195 [00:17<00:00, 11.45it/s]\n"
     ]
    },
    {
     "name": "stdout",
     "output_type": "stream",
     "text": [
      "Epochs = 1  Acc = [0.0465 0.1696]\n"
     ]
    },
    {
     "name": "stderr",
     "output_type": "stream",
     "text": [
      "100%|██████████| 195/195 [00:16<00:00, 11.50it/s]\n"
     ]
    },
    {
     "name": "stdout",
     "output_type": "stream",
     "text": [
      "Epochs = 2  Acc = [0.0816 0.2528]\n"
     ]
    },
    {
     "name": "stderr",
     "output_type": "stream",
     "text": [
      "100%|██████████| 195/195 [00:16<00:00, 11.52it/s]\n"
     ]
    },
    {
     "name": "stdout",
     "output_type": "stream",
     "text": [
      "Epochs = 3  Acc = [0.1145 0.3251]\n"
     ]
    },
    {
     "name": "stderr",
     "output_type": "stream",
     "text": [
      "100%|██████████| 195/195 [00:16<00:00, 11.50it/s]\n"
     ]
    },
    {
     "name": "stdout",
     "output_type": "stream",
     "text": [
      "Epochs = 4  Acc = [0.136  0.3714]\n"
     ]
    },
    {
     "name": "stderr",
     "output_type": "stream",
     "text": [
      "100%|██████████| 195/195 [00:16<00:00, 11.48it/s]\n"
     ]
    },
    {
     "name": "stdout",
     "output_type": "stream",
     "text": [
      "Epochs = 5  Acc = [0.1678 0.4268]\n"
     ]
    },
    {
     "name": "stderr",
     "output_type": "stream",
     "text": [
      "100%|██████████| 195/195 [00:16<00:00, 11.47it/s]\n"
     ]
    },
    {
     "name": "stdout",
     "output_type": "stream",
     "text": [
      "Epochs = 6  Acc = [0.1851 0.4557]\n"
     ]
    },
    {
     "name": "stderr",
     "output_type": "stream",
     "text": [
      "100%|██████████| 195/195 [00:17<00:00, 11.46it/s]\n"
     ]
    },
    {
     "name": "stdout",
     "output_type": "stream",
     "text": [
      "Epochs = 7  Acc = [0.22   0.4958]\n"
     ]
    },
    {
     "name": "stderr",
     "output_type": "stream",
     "text": [
      "100%|██████████| 195/195 [00:17<00:00, 11.46it/s]\n"
     ]
    },
    {
     "name": "stdout",
     "output_type": "stream",
     "text": [
      "Epochs = 8  Acc = [0.2268 0.5163]\n"
     ]
    },
    {
     "name": "stderr",
     "output_type": "stream",
     "text": [
      "100%|██████████| 195/195 [00:17<00:00, 11.45it/s]\n"
     ]
    },
    {
     "name": "stdout",
     "output_type": "stream",
     "text": [
      "Epochs = 9  Acc = [0.2398 0.5374]\n"
     ]
    },
    {
     "name": "stderr",
     "output_type": "stream",
     "text": [
      "100%|██████████| 195/195 [00:17<00:00, 11.45it/s]\n"
     ]
    },
    {
     "name": "stdout",
     "output_type": "stream",
     "text": [
      "Epochs = 10  Acc = [0.2582 0.5533]\n"
     ]
    },
    {
     "name": "stderr",
     "output_type": "stream",
     "text": [
      "100%|██████████| 195/195 [00:17<00:00, 11.44it/s]\n"
     ]
    },
    {
     "name": "stdout",
     "output_type": "stream",
     "text": [
      "Epochs = 11  Acc = [0.2759 0.5785]\n"
     ]
    },
    {
     "name": "stderr",
     "output_type": "stream",
     "text": [
      "100%|██████████| 195/195 [00:17<00:00, 11.44it/s]\n"
     ]
    },
    {
     "name": "stdout",
     "output_type": "stream",
     "text": [
      "Epochs = 12  Acc = [0.278  0.5832]\n"
     ]
    },
    {
     "name": "stderr",
     "output_type": "stream",
     "text": [
      "100%|██████████| 195/195 [00:17<00:00, 11.41it/s]\n"
     ]
    },
    {
     "name": "stdout",
     "output_type": "stream",
     "text": [
      "Epochs = 13  Acc = [0.2941 0.5995]\n"
     ]
    },
    {
     "name": "stderr",
     "output_type": "stream",
     "text": [
      "100%|██████████| 195/195 [00:17<00:00, 11.44it/s]\n"
     ]
    },
    {
     "name": "stdout",
     "output_type": "stream",
     "text": [
      "Epochs = 14  Acc = [0.3069 0.6141]\n"
     ]
    },
    {
     "name": "stderr",
     "output_type": "stream",
     "text": [
      "100%|██████████| 195/195 [00:17<00:00, 11.43it/s]\n"
     ]
    },
    {
     "name": "stdout",
     "output_type": "stream",
     "text": [
      "Epochs = 15  Acc = [0.3007 0.6094]\n"
     ]
    },
    {
     "name": "stderr",
     "output_type": "stream",
     "text": [
      "100%|██████████| 195/195 [00:17<00:00, 11.43it/s]\n"
     ]
    },
    {
     "name": "stdout",
     "output_type": "stream",
     "text": [
      "Epochs = 16  Acc = [0.3272 0.6345]\n"
     ]
    },
    {
     "name": "stderr",
     "output_type": "stream",
     "text": [
      "100%|██████████| 195/195 [00:17<00:00, 11.31it/s]\n"
     ]
    },
    {
     "name": "stdout",
     "output_type": "stream",
     "text": [
      "Epochs = 17  Acc = [0.3313 0.6303]\n"
     ]
    },
    {
     "name": "stderr",
     "output_type": "stream",
     "text": [
      "100%|██████████| 195/195 [00:17<00:00, 11.38it/s]\n"
     ]
    },
    {
     "name": "stdout",
     "output_type": "stream",
     "text": [
      "Epochs = 18  Acc = [0.3344 0.6374]\n"
     ]
    },
    {
     "name": "stderr",
     "output_type": "stream",
     "text": [
      "100%|██████████| 195/195 [00:17<00:00, 11.42it/s]\n"
     ]
    },
    {
     "name": "stdout",
     "output_type": "stream",
     "text": [
      "Epochs = 19  Acc = [0.3353 0.6421]\n"
     ]
    },
    {
     "name": "stderr",
     "output_type": "stream",
     "text": [
      "100%|██████████| 195/195 [00:17<00:00, 11.43it/s]\n"
     ]
    },
    {
     "name": "stdout",
     "output_type": "stream",
     "text": [
      "Epochs = 20  Acc = [0.3553 0.6551]\n"
     ]
    },
    {
     "name": "stderr",
     "output_type": "stream",
     "text": [
      "100%|██████████| 195/195 [00:17<00:00, 11.39it/s]\n"
     ]
    },
    {
     "name": "stdout",
     "output_type": "stream",
     "text": [
      "Epochs = 21  Acc = [0.3662 0.6684]\n"
     ]
    },
    {
     "name": "stderr",
     "output_type": "stream",
     "text": [
      "100%|██████████| 195/195 [00:17<00:00, 11.45it/s]\n"
     ]
    },
    {
     "name": "stdout",
     "output_type": "stream",
     "text": [
      "Epochs = 22  Acc = [0.3679 0.6764]\n"
     ]
    },
    {
     "name": "stderr",
     "output_type": "stream",
     "text": [
      "100%|██████████| 195/195 [00:17<00:00, 11.45it/s]\n"
     ]
    },
    {
     "name": "stdout",
     "output_type": "stream",
     "text": [
      "Epochs = 23  Acc = [0.3817 0.6871]\n"
     ]
    },
    {
     "name": "stderr",
     "output_type": "stream",
     "text": [
      "100%|██████████| 195/195 [00:17<00:00, 11.41it/s]\n"
     ]
    },
    {
     "name": "stdout",
     "output_type": "stream",
     "text": [
      "Epochs = 24  Acc = [0.3768 0.6886]\n"
     ]
    },
    {
     "name": "stderr",
     "output_type": "stream",
     "text": [
      "100%|██████████| 195/195 [00:17<00:00, 11.44it/s]\n"
     ]
    },
    {
     "name": "stdout",
     "output_type": "stream",
     "text": [
      "Epochs = 25  Acc = [0.3841 0.6879]\n"
     ]
    },
    {
     "name": "stderr",
     "output_type": "stream",
     "text": [
      "100%|██████████| 195/195 [00:17<00:00, 11.45it/s]\n"
     ]
    },
    {
     "name": "stdout",
     "output_type": "stream",
     "text": [
      "Epochs = 26  Acc = [0.3879 0.6875]\n"
     ]
    },
    {
     "name": "stderr",
     "output_type": "stream",
     "text": [
      "100%|██████████| 195/195 [00:17<00:00, 11.43it/s]\n"
     ]
    },
    {
     "name": "stdout",
     "output_type": "stream",
     "text": [
      "Epochs = 27  Acc = [0.3987 0.7019]\n"
     ]
    },
    {
     "name": "stderr",
     "output_type": "stream",
     "text": [
      "100%|██████████| 195/195 [00:17<00:00, 11.43it/s]\n"
     ]
    },
    {
     "name": "stdout",
     "output_type": "stream",
     "text": [
      "Epochs = 28  Acc = [0.4049 0.7065]\n"
     ]
    },
    {
     "name": "stderr",
     "output_type": "stream",
     "text": [
      "100%|██████████| 195/195 [00:17<00:00, 11.43it/s]\n"
     ]
    },
    {
     "name": "stdout",
     "output_type": "stream",
     "text": [
      "Epochs = 29  Acc = [0.3959 0.7013]\n"
     ]
    },
    {
     "name": "stderr",
     "output_type": "stream",
     "text": [
      "100%|██████████| 195/195 [00:17<00:00, 11.42it/s]\n"
     ]
    },
    {
     "name": "stdout",
     "output_type": "stream",
     "text": [
      "Epochs = 30  Acc = [0.4135 0.7146]\n"
     ]
    },
    {
     "name": "stderr",
     "output_type": "stream",
     "text": [
      "100%|██████████| 195/195 [00:17<00:00, 11.43it/s]\n"
     ]
    },
    {
     "name": "stdout",
     "output_type": "stream",
     "text": [
      "Epochs = 31  Acc = [0.4085 0.7147]\n"
     ]
    },
    {
     "name": "stderr",
     "output_type": "stream",
     "text": [
      "100%|██████████| 195/195 [00:17<00:00, 11.45it/s]\n"
     ]
    },
    {
     "name": "stdout",
     "output_type": "stream",
     "text": [
      "Epochs = 32  Acc = [0.4169 0.7163]\n"
     ]
    },
    {
     "name": "stderr",
     "output_type": "stream",
     "text": [
      "100%|██████████| 195/195 [00:17<00:00, 11.45it/s]\n"
     ]
    },
    {
     "name": "stdout",
     "output_type": "stream",
     "text": [
      "Epochs = 33  Acc = [0.4219 0.7175]\n"
     ]
    },
    {
     "name": "stderr",
     "output_type": "stream",
     "text": [
      "100%|██████████| 195/195 [00:17<00:00, 11.41it/s]\n"
     ]
    },
    {
     "name": "stdout",
     "output_type": "stream",
     "text": [
      "Epochs = 34  Acc = [0.421  0.7193]\n"
     ]
    },
    {
     "name": "stderr",
     "output_type": "stream",
     "text": [
      "100%|██████████| 195/195 [00:17<00:00, 11.44it/s]\n"
     ]
    },
    {
     "name": "stdout",
     "output_type": "stream",
     "text": [
      "Epochs = 35  Acc = [0.4269 0.7267]\n"
     ]
    },
    {
     "name": "stderr",
     "output_type": "stream",
     "text": [
      "100%|██████████| 195/195 [00:17<00:00, 11.43it/s]\n"
     ]
    },
    {
     "name": "stdout",
     "output_type": "stream",
     "text": [
      "Epochs = 36  Acc = [0.4357 0.7321]\n"
     ]
    },
    {
     "name": "stderr",
     "output_type": "stream",
     "text": [
      "100%|██████████| 195/195 [00:17<00:00, 11.45it/s]\n"
     ]
    },
    {
     "name": "stdout",
     "output_type": "stream",
     "text": [
      "Epochs = 37  Acc = [0.4339 0.7333]\n"
     ]
    },
    {
     "name": "stderr",
     "output_type": "stream",
     "text": [
      "100%|██████████| 195/195 [00:17<00:00, 11.43it/s]\n"
     ]
    },
    {
     "name": "stdout",
     "output_type": "stream",
     "text": [
      "Epochs = 38  Acc = [0.4321 0.73  ]\n"
     ]
    },
    {
     "name": "stderr",
     "output_type": "stream",
     "text": [
      "100%|██████████| 195/195 [00:17<00:00, 11.43it/s]\n"
     ]
    },
    {
     "name": "stdout",
     "output_type": "stream",
     "text": [
      "Epochs = 39  Acc = [0.4382 0.7284]\n"
     ]
    },
    {
     "name": "stderr",
     "output_type": "stream",
     "text": [
      "100%|██████████| 195/195 [00:17<00:00, 11.44it/s]\n"
     ]
    },
    {
     "name": "stdout",
     "output_type": "stream",
     "text": [
      "Epochs = 40  Acc = [0.4379 0.7331]\n"
     ]
    },
    {
     "name": "stderr",
     "output_type": "stream",
     "text": [
      "100%|██████████| 195/195 [00:17<00:00, 11.41it/s]\n"
     ]
    },
    {
     "name": "stdout",
     "output_type": "stream",
     "text": [
      "Epochs = 41  Acc = [0.4435 0.7354]\n"
     ]
    },
    {
     "name": "stderr",
     "output_type": "stream",
     "text": [
      "100%|██████████| 195/195 [00:17<00:00, 11.26it/s]\n"
     ]
    },
    {
     "name": "stdout",
     "output_type": "stream",
     "text": [
      "Epochs = 42  Acc = [0.4531 0.7415]\n"
     ]
    },
    {
     "name": "stderr",
     "output_type": "stream",
     "text": [
      "100%|██████████| 195/195 [00:17<00:00, 11.44it/s]\n"
     ]
    },
    {
     "name": "stdout",
     "output_type": "stream",
     "text": [
      "Epochs = 43  Acc = [0.4479 0.7346]\n"
     ]
    },
    {
     "name": "stderr",
     "output_type": "stream",
     "text": [
      "100%|██████████| 195/195 [00:17<00:00, 11.45it/s]\n"
     ]
    },
    {
     "name": "stdout",
     "output_type": "stream",
     "text": [
      "Epochs = 44  Acc = [0.4465 0.7377]\n"
     ]
    },
    {
     "name": "stderr",
     "output_type": "stream",
     "text": [
      "100%|██████████| 195/195 [00:17<00:00, 11.45it/s]\n"
     ]
    },
    {
     "name": "stdout",
     "output_type": "stream",
     "text": [
      "Epochs = 45  Acc = [0.4506 0.7418]\n"
     ]
    },
    {
     "name": "stderr",
     "output_type": "stream",
     "text": [
      "100%|██████████| 195/195 [00:17<00:00, 11.47it/s]\n"
     ]
    },
    {
     "name": "stdout",
     "output_type": "stream",
     "text": [
      "Epochs = 46  Acc = [0.4544 0.7442]\n"
     ]
    },
    {
     "name": "stderr",
     "output_type": "stream",
     "text": [
      "100%|██████████| 195/195 [00:16<00:00, 11.48it/s]\n"
     ]
    },
    {
     "name": "stdout",
     "output_type": "stream",
     "text": [
      "Epochs = 47  Acc = [0.4596 0.7483]\n"
     ]
    },
    {
     "name": "stderr",
     "output_type": "stream",
     "text": [
      "100%|██████████| 195/195 [00:17<00:00, 11.45it/s]\n"
     ]
    },
    {
     "name": "stdout",
     "output_type": "stream",
     "text": [
      "Epochs = 48  Acc = [0.4625 0.7439]\n"
     ]
    },
    {
     "name": "stderr",
     "output_type": "stream",
     "text": [
      "100%|██████████| 195/195 [00:17<00:00, 11.45it/s]\n"
     ]
    },
    {
     "name": "stdout",
     "output_type": "stream",
     "text": [
      "Epochs = 49  Acc = [0.464  0.7503]\n"
     ]
    },
    {
     "name": "stderr",
     "output_type": "stream",
     "text": [
      "100%|██████████| 195/195 [00:17<00:00, 11.45it/s]\n"
     ]
    },
    {
     "name": "stdout",
     "output_type": "stream",
     "text": [
      "Epochs = 50  Acc = [0.4616 0.7448]\n"
     ]
    },
    {
     "name": "stderr",
     "output_type": "stream",
     "text": [
      "100%|██████████| 195/195 [00:17<00:00, 11.45it/s]\n"
     ]
    },
    {
     "name": "stdout",
     "output_type": "stream",
     "text": [
      "Epochs = 51  Acc = [0.4612 0.7484]\n"
     ]
    },
    {
     "name": "stderr",
     "output_type": "stream",
     "text": [
      "100%|██████████| 195/195 [00:16<00:00, 11.47it/s]\n"
     ]
    },
    {
     "name": "stdout",
     "output_type": "stream",
     "text": [
      "Epochs = 52  Acc = [0.4698 0.7518]\n"
     ]
    },
    {
     "name": "stderr",
     "output_type": "stream",
     "text": [
      "100%|██████████| 195/195 [00:17<00:00, 11.37it/s]\n"
     ]
    },
    {
     "name": "stdout",
     "output_type": "stream",
     "text": [
      "Epochs = 53  Acc = [0.4735 0.7531]\n"
     ]
    },
    {
     "name": "stderr",
     "output_type": "stream",
     "text": [
      "100%|██████████| 195/195 [00:17<00:00, 11.27it/s]\n"
     ]
    },
    {
     "name": "stdout",
     "output_type": "stream",
     "text": [
      "Epochs = 54  Acc = [0.4659 0.7515]\n"
     ]
    },
    {
     "name": "stderr",
     "output_type": "stream",
     "text": [
      "100%|██████████| 195/195 [00:16<00:00, 11.48it/s]\n"
     ]
    },
    {
     "name": "stdout",
     "output_type": "stream",
     "text": [
      "Epochs = 55  Acc = [0.475  0.7517]\n"
     ]
    },
    {
     "name": "stderr",
     "output_type": "stream",
     "text": [
      "100%|██████████| 195/195 [00:17<00:00, 11.46it/s]\n"
     ]
    },
    {
     "name": "stdout",
     "output_type": "stream",
     "text": [
      "Epochs = 56  Acc = [0.4728 0.7532]\n"
     ]
    },
    {
     "name": "stderr",
     "output_type": "stream",
     "text": [
      "100%|██████████| 195/195 [00:17<00:00, 11.45it/s]\n"
     ]
    },
    {
     "name": "stdout",
     "output_type": "stream",
     "text": [
      "Epochs = 57  Acc = [0.4773 0.7489]\n"
     ]
    },
    {
     "name": "stderr",
     "output_type": "stream",
     "text": [
      "100%|██████████| 195/195 [00:17<00:00, 11.47it/s]\n"
     ]
    },
    {
     "name": "stdout",
     "output_type": "stream",
     "text": [
      "Epochs = 58  Acc = [0.4787 0.7573]\n"
     ]
    },
    {
     "name": "stderr",
     "output_type": "stream",
     "text": [
      "100%|██████████| 195/195 [00:17<00:00, 11.41it/s]\n"
     ]
    },
    {
     "name": "stdout",
     "output_type": "stream",
     "text": [
      "Epochs = 59  Acc = [0.4858 0.7563]\n"
     ]
    },
    {
     "name": "stderr",
     "output_type": "stream",
     "text": [
      "100%|██████████| 195/195 [00:17<00:00, 11.43it/s]\n"
     ]
    },
    {
     "name": "stdout",
     "output_type": "stream",
     "text": [
      "Epochs = 60  Acc = [0.4823 0.752 ]\n"
     ]
    }
   ],
   "source": [
    "epochs = 60\n",
    "batch_size = 256\n",
    "from time import sleep\n",
    "for epoch in range(len(accs) + 1, len(accs) + 1 + epochs):\n",
    "    for x, labels in dataloader(data_train['data'], data_train['fine_labels'], verbose = True,\n",
    "                augmentation=True, onehot = True, cut = resize[0]//4, mix = 1, grid = 0,\n",
    "                rotate = 6, resize = resize, batch_size = batch_size):\n",
    "        y = net(x)\n",
    "        labels = paddle.to_tensor(labels, dtype = 'float32')\n",
    "        loss = paddle.nn.CrossEntropyLoss(soft_label=True)(y, labels) \n",
    "        losses.append(loss.item())\n",
    "        optim.clear_grad()\n",
    "        loss.backward()\n",
    "        optim.step()\n",
    "        if scheduler is not None:\n",
    "            scheduler.step()\n",
    "    accs.append(test(net, data_test, resize = resize))\n",
    "    print('Epochs =', epoch, ' Acc =',accs[-1])\n",
    "    \n",
    "    # save the model if better\n",
    "    if accs[-1][0] >= max([i[0] for i in accs]):\n",
    "        paddle.save(net.state_dict(), 'model.pdparams')\n",
    "    sleep(1)"
   ]
  },
  {
   "cell_type": "code",
   "execution_count": 18,
   "metadata": {
    "collapsed": false
   },
   "outputs": [],
   "source": [
    "#paddle.save(net.state_dict(), 'work/model.pdparams')\n",
    "net.set_state_dict(paddle.load('model.pdparams'))"
   ]
  },
  {
   "cell_type": "code",
   "execution_count": 24,
   "metadata": {
    "collapsed": false
   },
   "outputs": [
    {
     "name": "stderr",
     "output_type": "stream",
     "text": [
      "100%|██████████| 500/500 [00:12<00:00, 38.53it/s]"
     ]
    },
    {
     "name": "stdout",
     "output_type": "stream",
     "text": [
      "Top1/5 Training Acc = [0.87156 0.98412]\n"
     ]
    },
    {
     "name": "stderr",
     "output_type": "stream",
     "text": [
      "\n"
     ]
    }
   ],
   "source": [
    "# severe overfitting: very high training acc\n",
    "print('Top1/5 Training Acc =', test(net, data_train, batch_size = 100, resize = resize, verbose=True))"
   ]
  },
  {
   "cell_type": "code",
   "execution_count": 25,
   "metadata": {
    "collapsed": false
   },
   "outputs": [
    {
     "name": "stdout",
     "output_type": "stream",
     "text": [
      "Top1/5 Testing Acc = 0.4858 0.7573\n"
     ]
    },
    {
     "data": {
      "image/png": "[encoded data removed]",
      "text/plain": [
       "<Figure size 1080x432 with 2 Axes>"
      ]
     },
     "metadata": {},
     "output_type": "display_data"
    }
   ],
   "source": [
    "print('Top1/5 Testing Acc =', max([i[0] for i in accs]), max([i[1] for i in accs]))\n",
    "plt.figure(figsize=(15,6))\n",
    "plt.subplot(1,2,1)\n",
    "plt.plot(accs)\n",
    "plt.legend(['Top1 Acc','Top5 Acc'])\n",
    "plt.title('Test Accc')\n",
    "plt.subplot(1,2,2)\n",
    "plt.plot(losses)\n",
    "plt.title('Loss')\n",
    "plt.show()"
   ]
  },
  {
   "cell_type": "code",
   "execution_count": null,
   "metadata": {
    "collapsed": false
   },
   "outputs": [
    {
     "name": "stderr",
     "output_type": "stream",
     "text": [
      "35100it [00:01, 18185.85it/s]\n",
      "90it [00:00, 8947.53it/s]\n"
     ]
    }
   ],
   "source": [
    "# write the log\n",
    "from visualdl import LogWriter\n",
    "writer = LogWriter('work')\n",
    "for i, v in tqdm(enumerate(losses)):    \n",
    "    writer.add_scalar(tag=\"train/loss\", step = i, value = v)\n",
    "for i, v in tqdm(enumerate(accs)):\n",
    "    writer.add_scalar(tag='valid/top1 acc', step = i, value = v[0])\n",
    "    writer.add_scalar(tag='valid/top5 acc', step = i, value = v[1])\n",
    "writer.close()"
   ]
  },
  {
   "cell_type": "markdown",
   "metadata": {
    "collapsed": false
   },
   "source": [
    "<h2>Visualization</h2>\n",
    "\n",
    "Visualize the attention map. 可视化注意力图。\n",
    "\n",
    "Reference: [可视化](https://github.com/jeonsworld/ViT-pytorch/blob/main/visualize_attention_map.ipynb)  \n",
    "\n",
    "The result displayed is based on model trained with patch size = 2. 以下展示结果实际上是在 patch_size = 2 的设定上训练的（需要更久但是分辨率、预测准确率更高）."
   ]
  },
  {
   "cell_type": "code",
   "execution_count": 19,
   "metadata": {
    "collapsed": false
   },
   "outputs": [
    {
     "data": {
      "image/png": "[encoded data removed]",
      "text/plain": [
       "<Figure size 1080x504 with 18 Axes>"
      ]
     },
     "metadata": {},
     "output_type": "display_data"
    }
   ],
   "source": [
    "batch_size = 100\n",
    "np.random.seed(4)\n",
    "for x, labels in dataloader(data_train['data'], data_train['fine_labels'], verbose = 0,\n",
    "            augmentation=0, onehot = True, cut = resize[0]//4, mix = 1, grid = 0,\n",
    "                rotate = 6, resize = resize, batch_size = batch_size):\n",
    "    imgs, attention = net.visualize(x, layer = 12)\n",
    "    break \n",
    "\n",
    "plt.figure(figsize = (15, 7))\n",
    "show = 6\n",
    "for i in range(show):\n",
    "    plt.subplot(3, show, 1 + i)\n",
    "    plt.axis('off')\n",
    "    plt.imshow(x[i].transpose((1,2,0)))\n",
    "    plt.title(data_meta['fine_label_names'][np.argmax(labels[i])])\n",
    "    plt.subplot(3, show, show + 1 + i)\n",
    "    plt.axis('off')\n",
    "    plt.imshow(imgs[i])\n",
    "    plt.subplot(3, show, 2*show + 1 + i)\n",
    "    plt.axis('off')\n",
    "    plt.imshow(attention[i][0], cmap='inferno')\n",
    "plt.show()"
   ]
  },
  {
   "cell_type": "code",
   "execution_count": null,
   "metadata": {
    "collapsed": false
   },
   "outputs": [
    {
     "data": {
      "text/plain": [
       "<matplotlib.colorbar.Colorbar at 0x7fd2aff7b2d0>"
      ]
     },
     "execution_count": null,
     "metadata": {},
     "output_type": "execute_result"
    },
    {
     "data": {
      "image/png": "[encoded data removed]",
      "text/plain": [
       "<Figure size 432x288 with 2 Axes>"
      ]
     },
     "metadata": {},
     "output_type": "display_data"
    }
   ],
   "source": [
    "plt.imshow(attention[0][0])\n",
    "plt.colorbar()"
   ]
  }
 ],
 "metadata": {
  "interpreter": {
   "hash": "1120dc956da57eca5c948a0118f4cdcd4d1b3be98c72752ed298d16085a61d24"
  },
  "kernelspec": {
   "display_name": "Python 3.8.4 64-bit (system)",
   "language": "python",
   "name": "python3"
  },
  "language_info": {
   "codemirror_mode": {
    "name": "ipython",
    "version": 3
   },
   "file_extension": ".py",
   "mimetype": "text/x-python",
   "name": "python",
   "nbconvert_exporter": "python",
   "pygments_lexer": "ipython3",
   "version": "3.8.4"
  }
 },
 "nbformat": 4,
 "nbformat_minor": 1
}
