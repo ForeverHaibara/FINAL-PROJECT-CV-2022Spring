{
  "cells": [
    {
      "cell_type": "markdown",
      "metadata": {
        "id": "view-in-github",
        "colab_type": "text"
      },
      "source": [
        "<a href=\"https://colab.research.google.com/github/mskmei/FINAL-PROJECT-CV-2022Spring/blob/main/CIFAR100_VisionTransformer_torch.ipynb\" target=\"_parent\"><img src=\"https://colab.research.google.com/assets/colab-badge.svg\" alt=\"Open In Colab\"/></a>"
      ]
    },
    {
      "cell_type": "markdown",
      "source": [
        "<h1>Vision Transformer</h1>\n",
        "\n",
        "In this notebook we implement the vision transformer by paddlepaddle on CIFAR100. 在本笔记本中我们在CIFAR100数据集上利用飞桨实现 Vision Transformer.\n",
        "\n",
        "Author:   \n",
        "[GitHub](https://github.com/ForeverHaibara)\n",
        "\n",
        "Original paper: [An Image is Worth 16x16 Words: Transformers for Image Recognition at Scale](https://arxiv.org/abs/2010.11929)"
      ],
      "metadata": {
        "id": "dkyac4Q1jaIp"
      }
    },
    {
      "cell_type": "code",
      "execution_count": 1,
      "metadata": {
        "id": "OWC154szhbDx"
      },
      "outputs": [],
      "source": [
        "import numpy as np\n",
        "import torch\n",
        "from matplotlib import pyplot as plt \n",
        "from tqdm import tqdm "
      ]
    },
    {
      "cell_type": "markdown",
      "metadata": {
        "id": "DSt2Z9wS3t21"
      },
      "source": [
        "<h2>Data Preparation</h2>\n",
        "\n",
        "We prepare the CIFAR100 dataset using torchvision and implement the data augmentation, CutMix."
      ]
    },
    {
      "cell_type": "code",
      "execution_count": 2,
      "metadata": {
        "colab": {
          "base_uri": "https://localhost:8080/",
          "height": 123,
          "referenced_widgets": [
            "2ca31e3ac1974e038983d915ccbb6d1c",
            "e1b2fd9fa0874154914b27eea0a3277b",
            "22f004fa161e4e68902ece28f62ec73d",
            "7adcd399093445a39e8f7a6e0674c768",
            "10586297fe6b4ce2bef5473e3b6fe866",
            "420615bbfe564796be0f8cbcca0fe6dd",
            "1b7e6bd5246a4c1dae33a81946b00070",
            "f936067d70a24a4caccac00cab2d6569",
            "bb16f1658f7d4721959e1587c71255df",
            "c0cb56af98954544b576c56d22260e5c",
            "da21e70ab8d7473295472a24231513ec"
          ]
        },
        "id": "GD3H8DgIhtFZ",
        "outputId": "11d0fddb-bd19-4705-a83f-3ec6c83b3b35"
      },
      "outputs": [
        {
          "output_type": "stream",
          "name": "stdout",
          "text": [
            "Downloading https://www.cs.toronto.edu/~kriz/cifar-100-python.tar.gz to ./cifar-100-python.tar.gz\n"
          ]
        },
        {
          "output_type": "display_data",
          "data": {
            "text/plain": [
              "  0%|          | 0/169001437 [00:00<?, ?it/s]"
            ],
            "application/vnd.jupyter.widget-view+json": {
              "version_major": 2,
              "version_minor": 0,
              "model_id": "2ca31e3ac1974e038983d915ccbb6d1c"
            }
          },
          "metadata": {}
        },
        {
          "output_type": "stream",
          "name": "stdout",
          "text": [
            "Extracting ./cifar-100-python.tar.gz to ./\n",
            "Files already downloaded and verified\n"
          ]
        }
      ],
      "source": [
        "from torchvision.datasets import CIFAR100\n",
        "data = CIFAR100(root = './', train = True, download = True)\n",
        "data_train = {'data': np.array([np.array(data[i][0]) for i in range(50000)]),\n",
        "        'fine_labels': np.array([data[i][1] for i in range(50000)], dtype='uint8')}\n",
        "del data \n",
        "\n",
        "data = CIFAR100(root = './', train = False, download = True)\n",
        "data_test = {'data': np.array([np.array(data[i][0]) for i in range(10000)]),\n",
        "        'fine_labels': np.array([data[i][1] for i in range(10000)], dtype='uint8')}\n",
        "del data"
      ]
    },
    {
      "cell_type": "code",
      "execution_count": 3,
      "metadata": {
        "colab": {
          "base_uri": "https://localhost:8080/"
        },
        "id": "DoO88tFOhv43",
        "outputId": "cd53ac6b-f861-46e4-f303-fb9ffd4edf0c"
      },
      "outputs": [
        {
          "output_type": "stream",
          "name": "stdout",
          "text": [
            "100\n"
          ]
        }
      ],
      "source": [
        "# all classes of CIFAR-100\n",
        "data_meta = 'apple aquarium_fish baby bear beaver bed bee beetle bicycle bottle bowl boy bridge bus butterfly camel can castle caterpillar cattle chair chimpanzee clock cloud cockroach couch crab crocodile cup dinosaur dolphin elephant flatfish forest fox girl hamster house kangaroo keyboard lamp lawn_mower leopard lion lizard lobster man maple_tree motorcycle mountain mouse mushroom oak_tree orange orchid otter palm_tree pear pickup_truck pine_tree plain plate poppy porcupine possum rabbit raccoon ray road rocket rose sea seal shark shrew skunk skyscraper snail snake spider squirrel streetcar sunflower sweet_pepper table tank telephone television tiger tractor train trout tulip turtle wardrobe whale willow_tree wolf woman worm'.split()\n",
        "data_meta = {'fine_label_names': data_meta}\n",
        "print(len(data_meta['fine_label_names']))"
      ]
    },
    {
      "cell_type": "code",
      "execution_count": 4,
      "metadata": {
        "colab": {
          "base_uri": "https://localhost:8080/",
          "height": 284
        },
        "id": "N9CT3KNAhyoW",
        "outputId": "d72c4fd7-9669-48f6-909c-4ce6893ab342"
      },
      "outputs": [
        {
          "output_type": "execute_result",
          "data": {
            "text/plain": [
              "<matplotlib.image.AxesImage at 0x7f3893dcbc50>"
            ]
          },
          "metadata": {},
          "execution_count": 4
        },
        {
          "output_type": "display_data",
          "data": {
            "text/plain": [
              "<Figure size 432x288 with 1 Axes>"
            ],
            "image/png": "[encoded data removed]"
          },
          "metadata": {
            "needs_background": "light"
          }
        }
      ],
      "source": [
        "plt.imshow(data_train['data'][0])"
      ]
    },
    {
      "cell_type": "code",
      "source": [
        "_cuda_ = 'cuda:0' if torch.cuda.is_available() else 'cpu'\n",
        "print(_cuda_)\n",
        "torch.cuda.set_device(_cuda_)"
      ],
      "metadata": {
        "id": "OFht72Q5Rxk3"
      },
      "execution_count": null,
      "outputs": []
    },
    {
      "cell_type": "code",
      "execution_count": 10,
      "metadata": {
        "id": "ZnJQPKPsh79j"
      },
      "outputs": [],
      "source": [
        "from PIL import Image \n",
        "def augmentate(pics, labels = None, resize = (224, 224), augmentation = False, \n",
        "                cut = False, mix = False, rotate = 15):\n",
        "    '''Simple data augmentator'''\n",
        "    pics2 = []\n",
        "    n = pics.shape[0]\n",
        "    if resize is None:\n",
        "        resize = pics[0].shape \n",
        "    \n",
        "    if augmentation:\n",
        "        angles = (np.random.random(n) - .5) * (rotate * 2.)\n",
        "        flips = np.random.randint(0, 2, n)\n",
        "        for i in range(n):\n",
        "            pic = Image.fromarray(pics[i])\n",
        "            if flips[i]: pic = pic.transpose(Image.FLIP_LEFT_RIGHT)\n",
        "            pic = pic.resize(resize, Image.ANTIALIAS)\n",
        "            pic = pic.rotate(angles[i])\n",
        "            pic = np.array(pic)\n",
        "            pics2.append(pic)\n",
        "    \n",
        "        if cut and not mix:\n",
        "            # cutout\n",
        "            cutx = np.random.randint(cut, resize[0], n)\n",
        "            cuty = np.random.randint(cut, resize[1], n)\n",
        "            for i in range(n):\n",
        "                pics2[i][cutx[i]-cut : cutx[i], \n",
        "                         cuty[i]-cut : cuty[i], : ] = 0\n",
        "            labels *= (1. - cut * cut / (pics2[0].size / 3.))\n",
        "\n",
        "        elif mix and not cut:\n",
        "            # mixup\n",
        "            couple = np.arange(n)\n",
        "            np.random.shuffle(couple)\n",
        "            propotion = np.random.random(n)\n",
        "\n",
        "            # warning: do not modify in-place\n",
        "            pics3 = [propotion[i] * pics2[couple[i]] + (1 - propotion[i]) * pics2[i] \n",
        "                        for i in range(n)]\n",
        "\n",
        "            # pointer\n",
        "            pics2 = pics3 \n",
        "\n",
        "            labels = labels + (labels[couple] - labels) * propotion.reshape((n,1))\n",
        "\n",
        "        elif cut and mix:\n",
        "            # cutmix\n",
        "            couple = np.arange(n)\n",
        "            np.random.shuffle(couple)\n",
        "            propotion = np.random.random(n)\n",
        "            rw = (resize[0] * np.sqrt(propotion)).astype('uint8')\n",
        "            rh = ((resize[1] / resize[0]) * rw).astype('uint8')\n",
        "\n",
        "            rx = np.random.randint(65535, size = n) % (resize[0] - rw)\n",
        "            ry = np.random.randint(65535, size = n) % (resize[1] - rh)\n",
        "\n",
        "            # warning: do not modify in-place\n",
        "            pics3 = np.array(pics2)\n",
        "            for i in range(n):\n",
        "                pics3[i][rx[i] : rx[i]+rw[i], ry[i] : ry[i]+rh[i]] = \\\n",
        "                    pics2[couple[i]][rx[i] : rx[i]+rw[i], ry[i] : ry[i]+rh[i]] \n",
        "\n",
        "            # pointer\n",
        "            pics2 = pics3\n",
        "\n",
        "            labels = labels + (labels[couple] - labels) * propotion.reshape((n,1))\n",
        "            \n",
        "    else: \n",
        "        # no augmentation but resizing\n",
        "        for i in range(pics.shape[0]):\n",
        "            pic = Image.fromarray(pics[i])\n",
        "            pic = pic.resize(resize, Image.ANTIALIAS)\n",
        "            pic = np.array(pic)\n",
        "            pics2.append(pic)\n",
        "\n",
        "    return np.array(pics2), labels\n",
        "\n",
        "def resizer(pics, size):\n",
        "    '''\n",
        "    resize pictures to the given size\n",
        "    '''\n",
        "    if issubclass(type(pics[0]), np.ndarray):\n",
        "        pics = [Image.fromarray(pic) for pic in pics]\n",
        "    \n",
        "    for i in range(len(pics)):\n",
        "        pics[i] = pics[i].resize(size, Image.ANTIALIAS)\n",
        "    \n",
        "    return pics\n",
        "\n",
        "\n",
        "def dataloader(data, labels, batch_size = 128, shuffle = True, verbose = True,\n",
        "                resize = (224,224), augmentation = True, onehot = False,\n",
        "                cut = False, mix = False, rotate = 15):\n",
        "    order = np.arange(data.shape[0], dtype = 'int32')\n",
        "    if shuffle: np.random.shuffle(order)\n",
        "    labels = np.array(labels)\n",
        "    __eye = np.eye(np.max(labels) + 1)\n",
        "    gen = range(data.shape[0] // batch_size)\n",
        "    if verbose: gen = tqdm(gen)\n",
        "    for i in gen:\n",
        "        x = data[order[i * batch_size: i * batch_size + batch_size]]\n",
        "        l = labels[order[i * batch_size: i * batch_size + batch_size]]\n",
        "\n",
        "        # extract the onehot encoding\n",
        "        l = __eye[l]\n",
        "\n",
        "        # augmentate the data\n",
        "        x , l = augmentate(x, l, resize = resize, augmentation = augmentation, \n",
        "                            cut = cut, mix = mix, rotate = rotate)\n",
        "\n",
        "        # transpose the dimensions to match (N,C,H,W)\n",
        "        x = x.transpose((0,3,1,2))\n",
        "        x = torch.tensor(x, dtype = torch.float32) / 255.\n",
        "\n",
        "        # retrieve the non-onehot encoding if asked\n",
        "        if not onehot:\n",
        "            l = labels[order[i * batch_size: i * batch_size + batch_size]]\n",
        "        yield x , l\n",
        "\n",
        "\n",
        "\n",
        "def topk(y, labels, top):\n",
        "    '''compute the number of hits in the top-k prediction'''\n",
        "    topy = np.argpartition(y, -top, axis=-1)[:,-top:]\n",
        "    topy -= labels.reshape((labels.shape[0], 1))\n",
        "    return topy.size - np.count_nonzero(topy)\n",
        "\n",
        "\n",
        "def test(net, data, batch_size = 100, resize = (224,224), tops = [1,5],\n",
        "            verbose = False, label = 'fine', augmentation = False):\n",
        "    accs = [0] * len(tops)\n",
        "    tops.sort()\n",
        "    for x, labels in dataloader(data['data'], data[f'{label}_labels'], resize = resize, \n",
        "                                  batch_size = batch_size, shuffle = False, verbose = verbose,\n",
        "                                  augmentation = augmentation):\n",
        "        y = net(x.to(_cuda_)).cpu().detach().numpy()\n",
        "        labels = np.array(labels)\n",
        "        for i in range(len(tops)):\n",
        "            t = topk(y, labels, tops[i])\n",
        "            accs[i] += topk(y, labels, tops[i])\n",
        "    return np.array(accs) / data['data'].shape[0]"
      ]
    },
    {
      "cell_type": "markdown",
      "metadata": {
        "id": "WPgrE_cv4lSv"
      },
      "source": [
        "<h2>Network</h2>\n",
        "\n",
        "We implement the vision transformer. See reference at \n",
        "https://github.com/google-research/vision_transformer ."
      ]
    },
    {
      "cell_type": "code",
      "execution_count": 54,
      "metadata": {
        "id": "03TrokpCkcfm"
      },
      "outputs": [],
      "source": [
        "# Reproduce of vision transformer in pytorch\n",
        "# Author    : https://github.com/ForeverHaibara \n",
        "# Reference : https://github.com/google-research/vision_transformer \n",
        "\n",
        "\n",
        "import torch   \n",
        "import numpy as np\n",
        "\n",
        "# class Encoder\n",
        "# class MultiheadAttention\n",
        "# class MLP\n",
        "# class VisionTransformer\n",
        "\n",
        "\n",
        "class Encoder(torch.nn.Module):\n",
        "    def __init__(self, channels, hidden_size, num_heads = 3, linear_dropout = .1, attention_dropout = .1):\n",
        "        # num_heads == patch_num\n",
        "        super().__init__()\n",
        "        \n",
        "        self.layer_norm1 = torch.nn.LayerNorm(channels)\n",
        "\n",
        "        # self.attention   = torch.nn.MultiHeadAttention(\n",
        "        #                                 embed_dim = channels, \n",
        "        #                                 num_heads = num_heads, \n",
        "        #                                 dropout = attention_dropout)\n",
        "\n",
        "        self.attention   =  MultiheadAttention(\n",
        "                                        embed_dim = channels, \n",
        "                                        num_heads = num_heads, \n",
        "                                        dropout = attention_dropout)\n",
        "\n",
        "        self.layer_norm2 = torch.nn.LayerNorm(channels)\n",
        "\n",
        "        self.mlp         = MLPLayer(channels, hidden_size, dropout = linear_dropout)\n",
        "\n",
        "\n",
        "    def forward(self, x):\n",
        "        y = self.layer_norm1(x)\n",
        "        y = self.attention(y)\n",
        "\n",
        "        x = x + y \n",
        "\n",
        "        y = self.layer_norm2(x) \n",
        "        y = self.mlp(x) \n",
        "\n",
        "        return x + y\n",
        "\n",
        "\n",
        "\n",
        "class MultiheadAttention(torch.nn.Module):\n",
        "    def __init__(self, num_heads = 3, embed_dim = 192, dropout = 0.):\n",
        "        super().__init__() \n",
        "        \n",
        "        assert embed_dim % num_heads == 0, 'Embedding dimension must be divisible by number of heads.'\n",
        "\n",
        "        self.num_heads = num_heads\n",
        "        \n",
        "        # map the input to qkv\n",
        "        self.qkv = torch.nn.Linear(embed_dim, embed_dim * 3)\n",
        "\n",
        "        self.dropout = torch.nn.Dropout(dropout)\n",
        "\n",
        "        self.attention = None\n",
        "    \n",
        "    def forward(self, x):\n",
        "        n, length, embed_dim = x.shape\n",
        "\n",
        "        # map the input to qkv\n",
        "        # [n, length, embed_dim] -> [n, length, embed_dim * 3]\n",
        "        x = self.qkv(x) \n",
        "\n",
        "        # partition x into qkv and distribute embeddings to heads\n",
        "        # [n, length, embed_dim * 3] -> [3, n, heads, length, embed_dim / heads]\n",
        "        x = x.reshape((n, length, 3, self.num_heads, embed_dim // self.num_heads))\n",
        "        x = x.permute((2, 0, 3, 1, 4))\n",
        "            \n",
        "        q, k, v = x[0], x[1], x[2]\n",
        "\n",
        "        # first matmul (remember to transpose k)\n",
        "        attention = torch.matmul(q, k.permute((0,1,3,2)))\n",
        "\n",
        "        # scale the attention\n",
        "        attention = attention * (q.shape[-1] ** -0.5)\n",
        "\n",
        "        # softmax \n",
        "        # we store it because it is useful when visualizing\n",
        "        self.attention = torch.nn.Softmax(dim = -1)(attention)\n",
        "\n",
        "        # dropout\n",
        "        attention = self.dropout(self.attention)\n",
        "\n",
        "        # second matmul, shape = [n, heads, length, embed_dim / heads]\n",
        "        x = torch.matmul(attention, v)\n",
        "\n",
        "        # restore shape\n",
        "        # [n, heads, length, embed_dim / heads] -> [n, length, embed_dim]\n",
        "        x = x.permute((0, 2, 1, 3)).reshape((n, length, embed_dim))\n",
        "\n",
        "        return x\n",
        "\n",
        "\n",
        "\n",
        "class MLPLayer(torch.nn.Module):\n",
        "    def __init__(self, input_size, hidden_size, output_size = None, dropout = .1):\n",
        "        \"\"\"An MLP layer consists of two linear layers followed with dropout.\"\"\"\n",
        "        super().__init__()\n",
        "\n",
        "        output_size   = output_size or input_size \n",
        "        \n",
        "        self.dense1   = torch.nn.Linear(input_size, hidden_size)\n",
        "        torch.nn.init.xavier_uniform_(self.dense1.weight)\n",
        "\n",
        "        self.act1     = torch.nn.LeakyReLU()\n",
        "        self.dropout1 = torch.nn.Dropout(dropout)\n",
        "\n",
        "\n",
        "        self.dense2   = torch.nn.Linear(hidden_size, output_size)\n",
        "        torch.nn.init.xavier_uniform_(self.dense2.weight)\n",
        "            \n",
        "        #self.act2     = torch.nn.LeakyReLU()\n",
        "        self.dropout2 = torch.nn.Dropout(dropout)\n",
        "\n",
        "\n",
        "    def forward(self, x):\n",
        "        x = self.dense1(x)\n",
        "        x = self.act1(x)\n",
        "        x = self.dropout1(x)\n",
        "\n",
        "        x = self.dense2(x)\n",
        "        # x = self.act2(x)\n",
        "        x = self.dropout2(x)\n",
        "\n",
        "        return x\n",
        "\n",
        "\n",
        "\n",
        "class VisionTransformer(torch.nn.Module):\n",
        "    def __init__(self, input_size = 224, output_size = 100,\n",
        "                        channels = 192, hidden_size = 768,\n",
        "                        patch_size = 16, \n",
        "                        num_heads = 3, encode_layers = 12, \n",
        "                        pos_encoding = True,\n",
        "                        linear_dropout = 0., attention_dropout = 0., encoding_dropout = 0.):\n",
        "        super().__init__()\n",
        "\n",
        "        assert input_size % patch_size == 0, 'Input size must be divisible by patch size.'\n",
        "        self.input_size = input_size\n",
        "        self.patch_size = patch_size\n",
        "\n",
        "        # convolution on each patch is the projection\n",
        "        self.proj = torch.nn.Conv2d(in_channels = 3, out_channels = channels,\n",
        "                                     kernel_size = patch_size, stride = patch_size,\n",
        "                                     padding = 'valid')\n",
        "\n",
        "        # num of patches\n",
        "        patch_num = (input_size // patch_size) ** 2 \n",
        "\n",
        "        # class tokens and (learnable) positional encodings\n",
        "        self.cls_token = torch.nn.parameter.Parameter(torch.randn((1, 1, channels)))\n",
        "        self.pos_encoding = torch.nn.parameter.Parameter(\n",
        "                            torch.randn((1, patch_num + 1, channels))) if pos_encoding is not None else None\n",
        "\n",
        "        self.dropout = torch.nn.Dropout(encoding_dropout)\n",
        "\n",
        "        self.encoders = torch.nn.ModuleList(\n",
        "                                [Encoder(channels  = channels,\n",
        "                                 hidden_size       = hidden_size,\n",
        "                                 num_heads         = num_heads,\n",
        "                                 linear_dropout    = linear_dropout,\n",
        "                                 attention_dropout = attention_dropout) for _ in range(encode_layers)]\n",
        "                                            )\n",
        "        \n",
        "        self.layer_norm = torch.nn.LayerNorm(channels)\n",
        "\n",
        "        self.head = torch.nn.Linear(channels, output_size)\n",
        "\n",
        "\n",
        "    def forward(self, x):\n",
        "        \"\"\"Input: torch tensor x with shape [batch_size, 3, height, width]\"\"\"\n",
        "    \n",
        "        # [batch_size, 3, height, width] -> [batch_size, channels, patch_x, patch_y] by conv\n",
        "        x = self.proj(x)  \n",
        "\n",
        "        # [batch_size, channels, patch_x, patch_y] -> [batch_size, channels, patch_num]\n",
        "        x = torch.flatten(x, 2, 3)\n",
        "\n",
        "        # [batch_size, channels, patch_num] -> [batch_size, patch_num, channels]\n",
        "        x = x.permute((0,2,1))\n",
        "        \n",
        "        # [batch_size, patch_num, channels] -> [batch_size, patch_num + 1, channels]\n",
        "        cls = torch.tile(self.cls_token, (x.shape[0], 1, 1))\n",
        "        x = torch.cat([cls, x], dim = 1)\n",
        "\n",
        "        # positional encoding\n",
        "        if self.pos_encoding is not None:\n",
        "            x = x + self.pos_encoding\n",
        "        x = self.dropout(x)\n",
        "        \n",
        "        # encoders\n",
        "        for i in range(len(self.encoders)):\n",
        "            x = self.encoders[i](x)\n",
        "        \n",
        "        # layernorm\n",
        "        x = self.layer_norm(x)\n",
        "\n",
        "        # reserve the first \"patch\"\n",
        "        x = x[:, 0]\n",
        "\n",
        "        # linear classifier\n",
        "        x = self.head(x)\n",
        "\n",
        "        return x\n",
        "\n",
        "\n",
        "    def visualize(self, x, layer = 0, dtype = 'int'):\n",
        "        \"\"\"\n",
        "        Visualize the attention-guided image of some x with some of the encoders.\n",
        "\n",
        "        Parameters\n",
        "        --------\n",
        "        x    : 4darray, input images with [N,C,H,W] format (C=3) and entries in [0,1]\n",
        "        layer: int, the index of attention map for visualization (starting from 1, defaults to the last)\n",
        "        dtype: str, 'int' or 'float' for the dtype of returned images\n",
        "\n",
        "        Returns\n",
        "        --------\n",
        "        imgs     : 4darray, [N,C,H,W] formatted rgba images (C=4)\n",
        "        attention: 3darray, [N,H,W] formatted, with entries in [0,1]\n",
        "\n",
        "        Reference:\n",
        "        https://github.com/jeonsworld/ViT-pytorch/blob/main/visualize_attention_map.ipynb \n",
        "        \"\"\"\n",
        "        \n",
        "        if not layer: layer = len(self.encoders)\n",
        "\n",
        "        # preprocessing, see details in <forward>\n",
        "        with torch.no_grad():\n",
        "            _ = self.forward(x)\n",
        "\n",
        "            device = self.cls_token.device\n",
        "\n",
        "            # initialization\n",
        "            attention = torch.eye((self.input_size // self.patch_size)**2 + 1,\n",
        "                                device = device).unsqueeze(0)\n",
        "            for i in range(layer):\n",
        "                # weight size = 65 * 65\n",
        "                weight = torch.mean(self.encoders[i].attention.attention, dim = 1)\n",
        "\n",
        "                # bias\n",
        "                weight += torch.eye(weight.shape[-1], device = device)\n",
        "                \n",
        "                # normalize\n",
        "                weight /= torch.tile(torch.sum(weight, dim = -1).unsqueeze(-1), (1, 1, weight.shape[-1]))\n",
        "\n",
        "                # accumalate along the layers\n",
        "                attention = torch.matmul(weight, attention)\n",
        "            \n",
        "            # drop the class token in the front\n",
        "            attention = attention[:, 0, 1:]\n",
        "\n",
        "            # normalize\n",
        "            attention = attention  / torch.max(attention, dim = -1)[0].unsqueeze(-1)\n",
        "\n",
        "            # reshape\n",
        "            attention = attention.reshape((x.shape[0], 1, \n",
        "                            self.input_size // self.patch_size, self.input_size // self.patch_size))\n",
        "\n",
        "            # tile up to restore the original size of the image by transpose2d\n",
        "            attention = torch.nn.functional.conv_transpose2d(\n",
        "                            attention,\n",
        "                            torch.zeros((1,3, self.patch_size, self.patch_size), \n",
        "                                        dtype = torch.float32, device = device) + 1,\n",
        "                            stride = self.patch_size)\n",
        "            \n",
        "            # place the attention map in the alpha channel (rgba imgs)\n",
        "            imgs = torch.cat((x, attention[:,:1]), dim = 1)\n",
        "            imgs = imgs.permute((0,2,3,1)).cpu().numpy()\n",
        "\n",
        "        if 'int' in dtype:\n",
        "            imgs = (imgs * 255.).clip(0, 255).astype('uint8')\n",
        "        return imgs, attention"
      ]
    },
    {
      "cell_type": "code",
      "execution_count": 12,
      "metadata": {
        "id": "Oe_80dfgrm_b"
      },
      "outputs": [],
      "source": [
        "resize = (32, 32)\n",
        "patch_size = 4#resize[0] // 7\n",
        "net = VisionTransformer(input_size = resize[0], channels = 192, hidden_size = 768, encode_layers = 12,\n",
        "                num_heads = 3, patch_size = patch_size, linear_dropout = 0., attention_dropout = 0.)\n",
        "optim = torch.optim.Adam(net.parameters(), lr = 3e-4)\n",
        "scheduler = torch.optim.lr_scheduler.LinearLR(optim,\n",
        "        start_factor = 3e-5, end_factor = 1, total_iters = 780, verbose=False)\n",
        "net = net.to(_cuda_)\n",
        "losses = []\n",
        "accs = []"
      ]
    },
    {
      "cell_type": "code",
      "source": [
        "from torchsummary import summary\n",
        "summary(net, input_size = (3, 32, 32))"
      ],
      "metadata": {
        "colab": {
          "base_uri": "https://localhost:8080/"
        },
        "id": "vUKzebfhe_2s",
        "outputId": "f5217b4f-7951-45ec-a575-e7aabc7edbf5"
      },
      "execution_count": 27,
      "outputs": [
        {
          "output_type": "stream",
          "name": "stdout",
          "text": [
            "----------------------------------------------------------------\n",
            "        Layer (type)               Output Shape         Param #\n",
            "================================================================\n",
            "            Conv2d-1            [-1, 192, 8, 8]           9,408\n",
            "           Dropout-2              [-1, 65, 192]               0\n",
            "         LayerNorm-3              [-1, 65, 192]             384\n",
            "            Linear-4              [-1, 65, 576]         111,168\n",
            "           Dropout-5            [-1, 3, 65, 65]               0\n",
            "MultiheadAttention-6              [-1, 65, 192]               0\n",
            "         LayerNorm-7              [-1, 65, 192]             384\n",
            "            Linear-8              [-1, 65, 768]         148,224\n",
            "         LeakyReLU-9              [-1, 65, 768]               0\n",
            "          Dropout-10              [-1, 65, 768]               0\n",
            "           Linear-11              [-1, 65, 192]         147,648\n",
            "          Dropout-12              [-1, 65, 192]               0\n",
            "         MLPLayer-13              [-1, 65, 192]               0\n",
            "          Encoder-14              [-1, 65, 192]               0\n",
            "        LayerNorm-15              [-1, 65, 192]             384\n",
            "           Linear-16              [-1, 65, 576]         111,168\n",
            "          Dropout-17            [-1, 3, 65, 65]               0\n",
            "MultiheadAttention-18              [-1, 65, 192]               0\n",
            "        LayerNorm-19              [-1, 65, 192]             384\n",
            "           Linear-20              [-1, 65, 768]         148,224\n",
            "        LeakyReLU-21              [-1, 65, 768]               0\n",
            "          Dropout-22              [-1, 65, 768]               0\n",
            "           Linear-23              [-1, 65, 192]         147,648\n",
            "          Dropout-24              [-1, 65, 192]               0\n",
            "         MLPLayer-25              [-1, 65, 192]               0\n",
            "          Encoder-26              [-1, 65, 192]               0\n",
            "        LayerNorm-27              [-1, 65, 192]             384\n",
            "           Linear-28              [-1, 65, 576]         111,168\n",
            "          Dropout-29            [-1, 3, 65, 65]               0\n",
            "MultiheadAttention-30              [-1, 65, 192]               0\n",
            "        LayerNorm-31              [-1, 65, 192]             384\n",
            "           Linear-32              [-1, 65, 768]         148,224\n",
            "        LeakyReLU-33              [-1, 65, 768]               0\n",
            "          Dropout-34              [-1, 65, 768]               0\n",
            "           Linear-35              [-1, 65, 192]         147,648\n",
            "          Dropout-36              [-1, 65, 192]               0\n",
            "         MLPLayer-37              [-1, 65, 192]               0\n",
            "          Encoder-38              [-1, 65, 192]               0\n",
            "        LayerNorm-39              [-1, 65, 192]             384\n",
            "           Linear-40              [-1, 65, 576]         111,168\n",
            "          Dropout-41            [-1, 3, 65, 65]               0\n",
            "MultiheadAttention-42              [-1, 65, 192]               0\n",
            "        LayerNorm-43              [-1, 65, 192]             384\n",
            "           Linear-44              [-1, 65, 768]         148,224\n",
            "        LeakyReLU-45              [-1, 65, 768]               0\n",
            "          Dropout-46              [-1, 65, 768]               0\n",
            "           Linear-47              [-1, 65, 192]         147,648\n",
            "          Dropout-48              [-1, 65, 192]               0\n",
            "         MLPLayer-49              [-1, 65, 192]               0\n",
            "          Encoder-50              [-1, 65, 192]               0\n",
            "        LayerNorm-51              [-1, 65, 192]             384\n",
            "           Linear-52              [-1, 65, 576]         111,168\n",
            "          Dropout-53            [-1, 3, 65, 65]               0\n",
            "MultiheadAttention-54              [-1, 65, 192]               0\n",
            "        LayerNorm-55              [-1, 65, 192]             384\n",
            "           Linear-56              [-1, 65, 768]         148,224\n",
            "        LeakyReLU-57              [-1, 65, 768]               0\n",
            "          Dropout-58              [-1, 65, 768]               0\n",
            "           Linear-59              [-1, 65, 192]         147,648\n",
            "          Dropout-60              [-1, 65, 192]               0\n",
            "         MLPLayer-61              [-1, 65, 192]               0\n",
            "          Encoder-62              [-1, 65, 192]               0\n",
            "        LayerNorm-63              [-1, 65, 192]             384\n",
            "           Linear-64              [-1, 65, 576]         111,168\n",
            "          Dropout-65            [-1, 3, 65, 65]               0\n",
            "MultiheadAttention-66              [-1, 65, 192]               0\n",
            "        LayerNorm-67              [-1, 65, 192]             384\n",
            "           Linear-68              [-1, 65, 768]         148,224\n",
            "        LeakyReLU-69              [-1, 65, 768]               0\n",
            "          Dropout-70              [-1, 65, 768]               0\n",
            "           Linear-71              [-1, 65, 192]         147,648\n",
            "          Dropout-72              [-1, 65, 192]               0\n",
            "         MLPLayer-73              [-1, 65, 192]               0\n",
            "          Encoder-74              [-1, 65, 192]               0\n",
            "        LayerNorm-75              [-1, 65, 192]             384\n",
            "           Linear-76              [-1, 65, 576]         111,168\n",
            "          Dropout-77            [-1, 3, 65, 65]               0\n",
            "MultiheadAttention-78              [-1, 65, 192]               0\n",
            "        LayerNorm-79              [-1, 65, 192]             384\n",
            "           Linear-80              [-1, 65, 768]         148,224\n",
            "        LeakyReLU-81              [-1, 65, 768]               0\n",
            "          Dropout-82              [-1, 65, 768]               0\n",
            "           Linear-83              [-1, 65, 192]         147,648\n",
            "          Dropout-84              [-1, 65, 192]               0\n",
            "         MLPLayer-85              [-1, 65, 192]               0\n",
            "          Encoder-86              [-1, 65, 192]               0\n",
            "        LayerNorm-87              [-1, 65, 192]             384\n",
            "           Linear-88              [-1, 65, 576]         111,168\n",
            "          Dropout-89            [-1, 3, 65, 65]               0\n",
            "MultiheadAttention-90              [-1, 65, 192]               0\n",
            "        LayerNorm-91              [-1, 65, 192]             384\n",
            "           Linear-92              [-1, 65, 768]         148,224\n",
            "        LeakyReLU-93              [-1, 65, 768]               0\n",
            "          Dropout-94              [-1, 65, 768]               0\n",
            "           Linear-95              [-1, 65, 192]         147,648\n",
            "          Dropout-96              [-1, 65, 192]               0\n",
            "         MLPLayer-97              [-1, 65, 192]               0\n",
            "          Encoder-98              [-1, 65, 192]               0\n",
            "        LayerNorm-99              [-1, 65, 192]             384\n",
            "          Linear-100              [-1, 65, 576]         111,168\n",
            "         Dropout-101            [-1, 3, 65, 65]               0\n",
            "MultiheadAttention-102              [-1, 65, 192]               0\n",
            "       LayerNorm-103              [-1, 65, 192]             384\n",
            "          Linear-104              [-1, 65, 768]         148,224\n",
            "       LeakyReLU-105              [-1, 65, 768]               0\n",
            "         Dropout-106              [-1, 65, 768]               0\n",
            "          Linear-107              [-1, 65, 192]         147,648\n",
            "         Dropout-108              [-1, 65, 192]               0\n",
            "        MLPLayer-109              [-1, 65, 192]               0\n",
            "         Encoder-110              [-1, 65, 192]               0\n",
            "       LayerNorm-111              [-1, 65, 192]             384\n",
            "          Linear-112              [-1, 65, 576]         111,168\n",
            "         Dropout-113            [-1, 3, 65, 65]               0\n",
            "MultiheadAttention-114              [-1, 65, 192]               0\n",
            "       LayerNorm-115              [-1, 65, 192]             384\n",
            "          Linear-116              [-1, 65, 768]         148,224\n",
            "       LeakyReLU-117              [-1, 65, 768]               0\n",
            "         Dropout-118              [-1, 65, 768]               0\n",
            "          Linear-119              [-1, 65, 192]         147,648\n",
            "         Dropout-120              [-1, 65, 192]               0\n",
            "        MLPLayer-121              [-1, 65, 192]               0\n",
            "         Encoder-122              [-1, 65, 192]               0\n",
            "       LayerNorm-123              [-1, 65, 192]             384\n",
            "          Linear-124              [-1, 65, 576]         111,168\n",
            "         Dropout-125            [-1, 3, 65, 65]               0\n",
            "MultiheadAttention-126              [-1, 65, 192]               0\n",
            "       LayerNorm-127              [-1, 65, 192]             384\n",
            "          Linear-128              [-1, 65, 768]         148,224\n",
            "       LeakyReLU-129              [-1, 65, 768]               0\n",
            "         Dropout-130              [-1, 65, 768]               0\n",
            "          Linear-131              [-1, 65, 192]         147,648\n",
            "         Dropout-132              [-1, 65, 192]               0\n",
            "        MLPLayer-133              [-1, 65, 192]               0\n",
            "         Encoder-134              [-1, 65, 192]               0\n",
            "       LayerNorm-135              [-1, 65, 192]             384\n",
            "          Linear-136              [-1, 65, 576]         111,168\n",
            "         Dropout-137            [-1, 3, 65, 65]               0\n",
            "MultiheadAttention-138              [-1, 65, 192]               0\n",
            "       LayerNorm-139              [-1, 65, 192]             384\n",
            "          Linear-140              [-1, 65, 768]         148,224\n",
            "       LeakyReLU-141              [-1, 65, 768]               0\n",
            "         Dropout-142              [-1, 65, 768]               0\n",
            "          Linear-143              [-1, 65, 192]         147,648\n",
            "         Dropout-144              [-1, 65, 192]               0\n",
            "        MLPLayer-145              [-1, 65, 192]               0\n",
            "         Encoder-146              [-1, 65, 192]               0\n",
            "       LayerNorm-147              [-1, 65, 192]             384\n",
            "          Linear-148                  [-1, 100]          19,300\n",
            "================================================================\n",
            "Total params: 4,922,788\n",
            "Trainable params: 4,922,788\n",
            "Non-trainable params: 0\n",
            "----------------------------------------------------------------\n",
            "Input size (MB): 0.01\n",
            "Forward/backward pass size (MB): 26.58\n",
            "Params size (MB): 18.78\n",
            "Estimated Total Size (MB): 45.37\n",
            "----------------------------------------------------------------\n"
          ]
        }
      ]
    },
    {
      "cell_type": "code",
      "execution_count": 13,
      "metadata": {
        "colab": {
          "base_uri": "https://localhost:8080/"
        },
        "id": "ISlutwqFtuMG",
        "outputId": "7805f573-0c2f-493a-d265-770186f9ac44"
      },
      "outputs": [
        {
          "output_type": "stream",
          "name": "stderr",
          "text": [
            "100%|██████████| 390/390 [00:49<00:00,  7.85it/s]\n"
          ]
        },
        {
          "output_type": "stream",
          "name": "stdout",
          "text": [
            "Epochs = 1  Acc = [0.034  0.1499]\n"
          ]
        },
        {
          "output_type": "stream",
          "name": "stderr",
          "text": [
            "100%|██████████| 390/390 [00:50<00:00,  7.66it/s]\n"
          ]
        },
        {
          "output_type": "stream",
          "name": "stdout",
          "text": [
            "Epochs = 2  Acc = [0.0476 0.187 ]\n"
          ]
        },
        {
          "output_type": "stream",
          "name": "stderr",
          "text": [
            "100%|██████████| 390/390 [00:51<00:00,  7.57it/s]\n"
          ]
        },
        {
          "output_type": "stream",
          "name": "stdout",
          "text": [
            "Epochs = 3  Acc = [0.0858 0.2763]\n"
          ]
        },
        {
          "output_type": "stream",
          "name": "stderr",
          "text": [
            "100%|██████████| 390/390 [00:50<00:00,  7.67it/s]\n"
          ]
        },
        {
          "output_type": "stream",
          "name": "stdout",
          "text": [
            "Epochs = 4  Acc = [0.0972 0.3021]\n"
          ]
        },
        {
          "output_type": "stream",
          "name": "stderr",
          "text": [
            "100%|██████████| 390/390 [00:50<00:00,  7.66it/s]\n"
          ]
        },
        {
          "output_type": "stream",
          "name": "stdout",
          "text": [
            "Epochs = 5  Acc = [0.1292 0.3573]\n"
          ]
        },
        {
          "output_type": "stream",
          "name": "stderr",
          "text": [
            "100%|██████████| 390/390 [00:50<00:00,  7.65it/s]\n"
          ]
        },
        {
          "output_type": "stream",
          "name": "stdout",
          "text": [
            "Epochs = 6  Acc = [0.1509 0.4014]\n"
          ]
        },
        {
          "output_type": "stream",
          "name": "stderr",
          "text": [
            "100%|██████████| 390/390 [00:50<00:00,  7.66it/s]\n"
          ]
        },
        {
          "output_type": "stream",
          "name": "stdout",
          "text": [
            "Epochs = 7  Acc = [0.1804 0.4483]\n"
          ]
        },
        {
          "output_type": "stream",
          "name": "stderr",
          "text": [
            "100%|██████████| 390/390 [00:50<00:00,  7.67it/s]\n"
          ]
        },
        {
          "output_type": "stream",
          "name": "stdout",
          "text": [
            "Epochs = 8  Acc = [0.1848 0.4621]\n"
          ]
        },
        {
          "output_type": "stream",
          "name": "stderr",
          "text": [
            "100%|██████████| 390/390 [00:50<00:00,  7.67it/s]\n"
          ]
        },
        {
          "output_type": "stream",
          "name": "stdout",
          "text": [
            "Epochs = 9  Acc = [0.1957 0.4819]\n"
          ]
        },
        {
          "output_type": "stream",
          "name": "stderr",
          "text": [
            "100%|██████████| 390/390 [00:50<00:00,  7.68it/s]\n"
          ]
        },
        {
          "output_type": "stream",
          "name": "stdout",
          "text": [
            "Epochs = 10  Acc = [0.2191 0.496 ]\n"
          ]
        },
        {
          "output_type": "stream",
          "name": "stderr",
          "text": [
            "100%|██████████| 390/390 [00:50<00:00,  7.68it/s]\n"
          ]
        },
        {
          "output_type": "stream",
          "name": "stdout",
          "text": [
            "Epochs = 11  Acc = [0.236  0.5194]\n"
          ]
        },
        {
          "output_type": "stream",
          "name": "stderr",
          "text": [
            "100%|██████████| 390/390 [00:50<00:00,  7.67it/s]\n"
          ]
        },
        {
          "output_type": "stream",
          "name": "stdout",
          "text": [
            "Epochs = 12  Acc = [0.2387 0.529 ]\n"
          ]
        },
        {
          "output_type": "stream",
          "name": "stderr",
          "text": [
            "100%|██████████| 390/390 [00:50<00:00,  7.66it/s]\n"
          ]
        },
        {
          "output_type": "stream",
          "name": "stdout",
          "text": [
            "Epochs = 13  Acc = [0.2635 0.5537]\n"
          ]
        },
        {
          "output_type": "stream",
          "name": "stderr",
          "text": [
            "100%|██████████| 390/390 [00:50<00:00,  7.65it/s]\n"
          ]
        },
        {
          "output_type": "stream",
          "name": "stdout",
          "text": [
            "Epochs = 14  Acc = [0.2755 0.5571]\n"
          ]
        },
        {
          "output_type": "stream",
          "name": "stderr",
          "text": [
            "100%|██████████| 390/390 [00:50<00:00,  7.66it/s]\n"
          ]
        },
        {
          "output_type": "stream",
          "name": "stdout",
          "text": [
            "Epochs = 15  Acc = [0.2823 0.5756]\n"
          ]
        },
        {
          "output_type": "stream",
          "name": "stderr",
          "text": [
            "100%|██████████| 390/390 [00:50<00:00,  7.66it/s]\n"
          ]
        },
        {
          "output_type": "stream",
          "name": "stdout",
          "text": [
            "Epochs = 16  Acc = [0.2833 0.5763]\n"
          ]
        },
        {
          "output_type": "stream",
          "name": "stderr",
          "text": [
            "100%|██████████| 390/390 [00:50<00:00,  7.67it/s]\n"
          ]
        },
        {
          "output_type": "stream",
          "name": "stdout",
          "text": [
            "Epochs = 17  Acc = [0.2962 0.5838]\n"
          ]
        },
        {
          "output_type": "stream",
          "name": "stderr",
          "text": [
            "100%|██████████| 390/390 [00:50<00:00,  7.66it/s]\n"
          ]
        },
        {
          "output_type": "stream",
          "name": "stdout",
          "text": [
            "Epochs = 18  Acc = [0.3078 0.6076]\n"
          ]
        },
        {
          "output_type": "stream",
          "name": "stderr",
          "text": [
            "100%|██████████| 390/390 [00:50<00:00,  7.66it/s]\n"
          ]
        },
        {
          "output_type": "stream",
          "name": "stdout",
          "text": [
            "Epochs = 19  Acc = [0.3186 0.6143]\n"
          ]
        },
        {
          "output_type": "stream",
          "name": "stderr",
          "text": [
            "100%|██████████| 390/390 [00:50<00:00,  7.66it/s]\n"
          ]
        },
        {
          "output_type": "stream",
          "name": "stdout",
          "text": [
            "Epochs = 20  Acc = [0.3157 0.6115]\n"
          ]
        },
        {
          "output_type": "stream",
          "name": "stderr",
          "text": [
            "100%|██████████| 390/390 [00:50<00:00,  7.68it/s]\n"
          ]
        },
        {
          "output_type": "stream",
          "name": "stdout",
          "text": [
            "Epochs = 21  Acc = [0.3339 0.6273]\n"
          ]
        },
        {
          "output_type": "stream",
          "name": "stderr",
          "text": [
            "100%|██████████| 390/390 [00:50<00:00,  7.69it/s]\n"
          ]
        },
        {
          "output_type": "stream",
          "name": "stdout",
          "text": [
            "Epochs = 22  Acc = [0.3399 0.635 ]\n"
          ]
        },
        {
          "output_type": "stream",
          "name": "stderr",
          "text": [
            "100%|██████████| 390/390 [00:50<00:00,  7.69it/s]\n"
          ]
        },
        {
          "output_type": "stream",
          "name": "stdout",
          "text": [
            "Epochs = 23  Acc = [0.3465 0.6434]\n"
          ]
        },
        {
          "output_type": "stream",
          "name": "stderr",
          "text": [
            "100%|██████████| 390/390 [00:50<00:00,  7.68it/s]\n"
          ]
        },
        {
          "output_type": "stream",
          "name": "stdout",
          "text": [
            "Epochs = 24  Acc = [0.3459 0.6353]\n"
          ]
        },
        {
          "output_type": "stream",
          "name": "stderr",
          "text": [
            "100%|██████████| 390/390 [00:50<00:00,  7.66it/s]\n"
          ]
        },
        {
          "output_type": "stream",
          "name": "stdout",
          "text": [
            "Epochs = 25  Acc = [0.3491 0.6455]\n"
          ]
        },
        {
          "output_type": "stream",
          "name": "stderr",
          "text": [
            "100%|██████████| 390/390 [00:50<00:00,  7.67it/s]\n"
          ]
        },
        {
          "output_type": "stream",
          "name": "stdout",
          "text": [
            "Epochs = 26  Acc = [0.3596 0.649 ]\n"
          ]
        },
        {
          "output_type": "stream",
          "name": "stderr",
          "text": [
            "100%|██████████| 390/390 [00:50<00:00,  7.66it/s]\n"
          ]
        },
        {
          "output_type": "stream",
          "name": "stdout",
          "text": [
            "Epochs = 27  Acc = [0.3681 0.6628]\n"
          ]
        },
        {
          "output_type": "stream",
          "name": "stderr",
          "text": [
            "100%|██████████| 390/390 [00:50<00:00,  7.67it/s]\n"
          ]
        },
        {
          "output_type": "stream",
          "name": "stdout",
          "text": [
            "Epochs = 28  Acc = [0.3715 0.6582]\n"
          ]
        },
        {
          "output_type": "stream",
          "name": "stderr",
          "text": [
            "100%|██████████| 390/390 [00:50<00:00,  7.67it/s]\n"
          ]
        },
        {
          "output_type": "stream",
          "name": "stdout",
          "text": [
            "Epochs = 29  Acc = [0.3668 0.6619]\n"
          ]
        },
        {
          "output_type": "stream",
          "name": "stderr",
          "text": [
            "100%|██████████| 390/390 [00:50<00:00,  7.67it/s]\n"
          ]
        },
        {
          "output_type": "stream",
          "name": "stdout",
          "text": [
            "Epochs = 30  Acc = [0.3763 0.6721]\n"
          ]
        },
        {
          "output_type": "stream",
          "name": "stderr",
          "text": [
            "100%|██████████| 390/390 [00:50<00:00,  7.66it/s]\n"
          ]
        },
        {
          "output_type": "stream",
          "name": "stdout",
          "text": [
            "Epochs = 31  Acc = [0.3831 0.6706]\n"
          ]
        },
        {
          "output_type": "stream",
          "name": "stderr",
          "text": [
            "100%|██████████| 390/390 [00:50<00:00,  7.66it/s]\n"
          ]
        },
        {
          "output_type": "stream",
          "name": "stdout",
          "text": [
            "Epochs = 32  Acc = [0.3865 0.6769]\n"
          ]
        },
        {
          "output_type": "stream",
          "name": "stderr",
          "text": [
            "100%|██████████| 390/390 [00:50<00:00,  7.67it/s]\n"
          ]
        },
        {
          "output_type": "stream",
          "name": "stdout",
          "text": [
            "Epochs = 33  Acc = [0.3866 0.6783]\n"
          ]
        },
        {
          "output_type": "stream",
          "name": "stderr",
          "text": [
            "100%|██████████| 390/390 [00:50<00:00,  7.67it/s]\n"
          ]
        },
        {
          "output_type": "stream",
          "name": "stdout",
          "text": [
            "Epochs = 34  Acc = [0.3799 0.671 ]\n"
          ]
        },
        {
          "output_type": "stream",
          "name": "stderr",
          "text": [
            "100%|██████████| 390/390 [00:50<00:00,  7.67it/s]\n"
          ]
        },
        {
          "output_type": "stream",
          "name": "stdout",
          "text": [
            "Epochs = 35  Acc = [0.3876 0.6842]\n"
          ]
        },
        {
          "output_type": "stream",
          "name": "stderr",
          "text": [
            "100%|██████████| 390/390 [00:50<00:00,  7.67it/s]\n"
          ]
        },
        {
          "output_type": "stream",
          "name": "stdout",
          "text": [
            "Epochs = 36  Acc = [0.3951 0.6843]\n"
          ]
        },
        {
          "output_type": "stream",
          "name": "stderr",
          "text": [
            "100%|██████████| 390/390 [00:50<00:00,  7.67it/s]\n"
          ]
        },
        {
          "output_type": "stream",
          "name": "stdout",
          "text": [
            "Epochs = 37  Acc = [0.3936 0.6809]\n"
          ]
        },
        {
          "output_type": "stream",
          "name": "stderr",
          "text": [
            "100%|██████████| 390/390 [00:50<00:00,  7.67it/s]\n"
          ]
        },
        {
          "output_type": "stream",
          "name": "stdout",
          "text": [
            "Epochs = 38  Acc = [0.4044 0.6857]\n"
          ]
        },
        {
          "output_type": "stream",
          "name": "stderr",
          "text": [
            "100%|██████████| 390/390 [00:50<00:00,  7.68it/s]\n"
          ]
        },
        {
          "output_type": "stream",
          "name": "stdout",
          "text": [
            "Epochs = 39  Acc = [0.3964 0.689 ]\n"
          ]
        },
        {
          "output_type": "stream",
          "name": "stderr",
          "text": [
            "100%|██████████| 390/390 [00:50<00:00,  7.67it/s]\n"
          ]
        },
        {
          "output_type": "stream",
          "name": "stdout",
          "text": [
            "Epochs = 40  Acc = [0.4089 0.6906]\n"
          ]
        },
        {
          "output_type": "stream",
          "name": "stderr",
          "text": [
            "100%|██████████| 390/390 [00:50<00:00,  7.69it/s]\n"
          ]
        },
        {
          "output_type": "stream",
          "name": "stdout",
          "text": [
            "Epochs = 41  Acc = [0.4107 0.6965]\n"
          ]
        },
        {
          "output_type": "stream",
          "name": "stderr",
          "text": [
            "100%|██████████| 390/390 [00:50<00:00,  7.69it/s]\n"
          ]
        },
        {
          "output_type": "stream",
          "name": "stdout",
          "text": [
            "Epochs = 42  Acc = [0.4035 0.686 ]\n"
          ]
        },
        {
          "output_type": "stream",
          "name": "stderr",
          "text": [
            "100%|██████████| 390/390 [00:50<00:00,  7.69it/s]\n"
          ]
        },
        {
          "output_type": "stream",
          "name": "stdout",
          "text": [
            "Epochs = 43  Acc = [0.4086 0.6918]\n"
          ]
        },
        {
          "output_type": "stream",
          "name": "stderr",
          "text": [
            "100%|██████████| 390/390 [00:50<00:00,  7.69it/s]\n"
          ]
        },
        {
          "output_type": "stream",
          "name": "stdout",
          "text": [
            "Epochs = 44  Acc = [0.409  0.6847]\n"
          ]
        },
        {
          "output_type": "stream",
          "name": "stderr",
          "text": [
            "100%|██████████| 390/390 [00:50<00:00,  7.69it/s]\n"
          ]
        },
        {
          "output_type": "stream",
          "name": "stdout",
          "text": [
            "Epochs = 45  Acc = [0.4072 0.6949]\n"
          ]
        },
        {
          "output_type": "stream",
          "name": "stderr",
          "text": [
            "100%|██████████| 390/390 [00:50<00:00,  7.67it/s]\n"
          ]
        },
        {
          "output_type": "stream",
          "name": "stdout",
          "text": [
            "Epochs = 46  Acc = [0.4069 0.689 ]\n"
          ]
        },
        {
          "output_type": "stream",
          "name": "stderr",
          "text": [
            "100%|██████████| 390/390 [00:50<00:00,  7.66it/s]\n"
          ]
        },
        {
          "output_type": "stream",
          "name": "stdout",
          "text": [
            "Epochs = 47  Acc = [0.4118 0.6938]\n"
          ]
        },
        {
          "output_type": "stream",
          "name": "stderr",
          "text": [
            "100%|██████████| 390/390 [00:50<00:00,  7.67it/s]\n"
          ]
        },
        {
          "output_type": "stream",
          "name": "stdout",
          "text": [
            "Epochs = 48  Acc = [0.4106 0.6826]\n"
          ]
        },
        {
          "output_type": "stream",
          "name": "stderr",
          "text": [
            "100%|██████████| 390/390 [00:50<00:00,  7.67it/s]\n"
          ]
        },
        {
          "output_type": "stream",
          "name": "stdout",
          "text": [
            "Epochs = 49  Acc = [0.4141 0.6917]\n"
          ]
        },
        {
          "output_type": "stream",
          "name": "stderr",
          "text": [
            "100%|██████████| 390/390 [00:50<00:00,  7.66it/s]\n"
          ]
        },
        {
          "output_type": "stream",
          "name": "stdout",
          "text": [
            "Epochs = 50  Acc = [0.4156 0.6915]\n"
          ]
        },
        {
          "output_type": "stream",
          "name": "stderr",
          "text": [
            "100%|██████████| 390/390 [00:50<00:00,  7.67it/s]\n"
          ]
        },
        {
          "output_type": "stream",
          "name": "stdout",
          "text": [
            "Epochs = 51  Acc = [0.4115 0.6874]\n"
          ]
        },
        {
          "output_type": "stream",
          "name": "stderr",
          "text": [
            "100%|██████████| 390/390 [00:50<00:00,  7.66it/s]\n"
          ]
        },
        {
          "output_type": "stream",
          "name": "stdout",
          "text": [
            "Epochs = 52  Acc = [0.4102 0.684 ]\n"
          ]
        },
        {
          "output_type": "stream",
          "name": "stderr",
          "text": [
            "100%|██████████| 390/390 [00:50<00:00,  7.66it/s]\n"
          ]
        },
        {
          "output_type": "stream",
          "name": "stdout",
          "text": [
            "Epochs = 53  Acc = [0.4103 0.6832]\n"
          ]
        },
        {
          "output_type": "stream",
          "name": "stderr",
          "text": [
            "100%|██████████| 390/390 [00:50<00:00,  7.66it/s]\n"
          ]
        },
        {
          "output_type": "stream",
          "name": "stdout",
          "text": [
            "Epochs = 54  Acc = [0.4106 0.6912]\n"
          ]
        },
        {
          "output_type": "stream",
          "name": "stderr",
          "text": [
            "100%|██████████| 390/390 [00:50<00:00,  7.66it/s]\n"
          ]
        },
        {
          "output_type": "stream",
          "name": "stdout",
          "text": [
            "Epochs = 55  Acc = [0.4145 0.688 ]\n"
          ]
        },
        {
          "output_type": "stream",
          "name": "stderr",
          "text": [
            "100%|██████████| 390/390 [00:50<00:00,  7.66it/s]\n"
          ]
        },
        {
          "output_type": "stream",
          "name": "stdout",
          "text": [
            "Epochs = 56  Acc = [0.4106 0.6904]\n"
          ]
        },
        {
          "output_type": "stream",
          "name": "stderr",
          "text": [
            "100%|██████████| 390/390 [00:50<00:00,  7.66it/s]\n"
          ]
        },
        {
          "output_type": "stream",
          "name": "stdout",
          "text": [
            "Epochs = 57  Acc = [0.416 0.687]\n"
          ]
        },
        {
          "output_type": "stream",
          "name": "stderr",
          "text": [
            "100%|██████████| 390/390 [00:50<00:00,  7.66it/s]\n"
          ]
        },
        {
          "output_type": "stream",
          "name": "stdout",
          "text": [
            "Epochs = 58  Acc = [0.4122 0.6833]\n"
          ]
        },
        {
          "output_type": "stream",
          "name": "stderr",
          "text": [
            "100%|██████████| 390/390 [00:50<00:00,  7.67it/s]\n"
          ]
        },
        {
          "output_type": "stream",
          "name": "stdout",
          "text": [
            "Epochs = 59  Acc = [0.4157 0.6853]\n"
          ]
        },
        {
          "output_type": "stream",
          "name": "stderr",
          "text": [
            "100%|██████████| 390/390 [00:50<00:00,  7.66it/s]\n"
          ]
        },
        {
          "output_type": "stream",
          "name": "stdout",
          "text": [
            "Epochs = 60  Acc = [0.4123 0.6873]\n"
          ]
        }
      ],
      "source": [
        "epochs = 60\n",
        "batch_size = 128\n",
        "from time import sleep\n",
        "for epoch in range(len(accs) + 1, len(accs) + 1 + epochs):\n",
        "    for x, labels in dataloader(data_train['data'], data_train['fine_labels'], verbose = True,\n",
        "                augmentation=True, onehot = True, cut = resize[0]//4, mix = 1,\n",
        "                rotate = 6, resize = resize, batch_size = batch_size):\n",
        "        y = net(x.to(_cuda_))\n",
        "        labels = torch.tensor(labels, dtype = torch.float32, device = _cuda_)\n",
        "        \n",
        "        y = torch.nn.Softmax(dim=-1)(y)\n",
        "        loss = torch.nn.functional.binary_cross_entropy(y, labels)\n",
        "\n",
        "        losses.append(loss.item())\n",
        "        optim.zero_grad()\n",
        "        loss.backward()\n",
        "        optim.step()\n",
        "        if scheduler is not None:\n",
        "            scheduler.step()\n",
        "    accs.append(test(net, data_test, resize = resize))\n",
        "    print('Epochs =', epoch, ' Acc =',accs[-1])\n",
        "    sleep(.1)\n",
        "    if accs[-1][0] >= max([i[0] for i in accs]):\n",
        "      torch.save(net.state_dict(), 'model.pth')\n"
      ]
    },
    {
      "cell_type": "code",
      "execution_count": 16,
      "metadata": {
        "colab": {
          "base_uri": "https://localhost:8080/"
        },
        "id": "OL0D-N3HvNlO",
        "outputId": "832965d0-d45b-4fea-8eb8-9635be602401"
      },
      "outputs": [
        {
          "output_type": "stream",
          "name": "stderr",
          "text": [
            "100%|██████████| 500/500 [00:20<00:00, 24.50it/s]"
          ]
        },
        {
          "output_type": "stream",
          "name": "stdout",
          "text": [
            "\n",
            "Top1 and Top5 Train Acc = [0.87488 0.97852]\n"
          ]
        },
        {
          "output_type": "stream",
          "name": "stderr",
          "text": [
            "\n"
          ]
        }
      ],
      "source": [
        "# measure the training acc\n",
        "print('\\nTop1 and Top5 Train Acc =', test(net, data_train, batch_size = 100, resize = resize, verbose=True))"
      ]
    },
    {
      "cell_type": "code",
      "execution_count": 15,
      "metadata": {
        "colab": {
          "base_uri": "https://localhost:8080/",
          "height": 310
        },
        "id": "AFRT_xwe1HGU",
        "outputId": "97c17b3b-2204-4290-99f6-ebf6d9a878c5"
      },
      "outputs": [
        {
          "output_type": "stream",
          "name": "stdout",
          "text": [
            "Top1 and Top5 Test Acc = 0.416 0.6965\n"
          ]
        },
        {
          "output_type": "execute_result",
          "data": {
            "text/plain": [
              "[<matplotlib.lines.Line2D at 0x7f3888cf5fd0>]"
            ]
          },
          "metadata": {},
          "execution_count": 15
        },
        {
          "output_type": "display_data",
          "data": {
            "text/plain": [
              "<Figure size 1080x432 with 2 Axes>"
            ],
            "image/png": "[encoded data removed]"
          },
          "metadata": {
            "needs_background": "light"
          }
        }
      ],
      "source": [
        "# display the testing acc\n",
        "print('Top1 and Top5 Test Acc =', max([i[0] for i in accs]), max([i[1] for i in accs]))\n",
        "plt.figure(figsize=(15,6))\n",
        "plt.subplot(1,2,1)\n",
        "plt.plot(accs)\n",
        "plt.subplot(1,2,2)\n",
        "plt.plot(losses)"
      ]
    },
    {
      "cell_type": "code",
      "execution_count": 17,
      "metadata": {
        "id": "kMdhhpMM1yi0"
      },
      "outputs": [],
      "source": [
        "# write the log\n",
        "from torch.utils.tensorboard import SummaryWriter\n",
        "writer = SummaryWriter('./')\n",
        "for i in range(len(losses)):\n",
        "  writer.add_scalar(tag=\"train/loss\", global_step = i, scalar_value = losses[i]) \n",
        "for i in range(len(accs)): \n",
        "  writer.add_scalar(tag=\"valid/top1 acc\", global_step = i, scalar_value = accs[i][0])  \n",
        "  writer.add_scalar(tag=\"valid/top5 acc\", global_step = i, scalar_value = accs[i][1]) "
      ]
    },
    {
      "cell_type": "markdown",
      "metadata": {
        "id": "u4PqWGzR2XNZ"
      },
      "source": [
        "<h2>Visualize</h2>\n",
        "\n",
        "Visualize the attention map."
      ]
    },
    {
      "cell_type": "code",
      "execution_count": 63,
      "metadata": {
        "colab": {
          "base_uri": "https://localhost:8080/",
          "height": 323
        },
        "id": "FJmv4uZj2Pwq",
        "outputId": "2bb16a79-6765-4062-93df-09f58698f0da"
      },
      "outputs": [
        {
          "output_type": "display_data",
          "data": {
            "text/plain": [
              "<Figure size 1080x504 with 18 Axes>"
            ],
            "image/png": "[encoded data removed]"
          },
          "metadata": {
            "needs_background": "light"
          }
        }
      ],
      "source": [
        "batch_size = 100\n",
        "np.random.seed(4)\n",
        "for x, labels in dataloader(data_train['data'], data_train['fine_labels'], verbose = 0,\n",
        "            augmentation=0, onehot = True, cut = resize[0]//4, mix = 1, \n",
        "                rotate = 6, resize = resize, batch_size = batch_size):\n",
        "    imgs, attention = net.visualize(x.to(_cuda_), layer = 12)\n",
        "    attention = attention.cpu().numpy()\n",
        "    break \n",
        "\n",
        "plt.figure(figsize = (15, 7))\n",
        "show = 6\n",
        "for i in range(show):\n",
        "    plt.subplot(3, show, 1 + i)\n",
        "    plt.axis('off')\n",
        "    plt.imshow(x[i].permute((1,2,0)))\n",
        "    plt.title(data_meta['fine_label_names'][np.argmax(labels[i])])\n",
        "    plt.subplot(3, show, show + 1 + i)\n",
        "    plt.axis('off')\n",
        "    plt.imshow(imgs[i])\n",
        "    plt.subplot(3, show, 2*show + 1 + i)\n",
        "    plt.axis('off')\n",
        "    plt.imshow(attention[i][0], cmap='inferno')\n",
        "plt.show()"
      ]
    },
    {
      "cell_type": "code",
      "execution_count": 64,
      "metadata": {
        "colab": {
          "base_uri": "https://localhost:8080/",
          "height": 287
        },
        "id": "HOCcw-u62VOq",
        "outputId": "e0a85caa-fcb3-435f-cb35-89f037443ea5"
      },
      "outputs": [
        {
          "output_type": "execute_result",
          "data": {
            "text/plain": [
              "<matplotlib.colorbar.Colorbar at 0x7f36d369c590>"
            ]
          },
          "metadata": {},
          "execution_count": 64
        },
        {
          "output_type": "display_data",
          "data": {
            "text/plain": [
              "<Figure size 432x288 with 2 Axes>"
            ],
            "image/png": "[encoded data removed]"
          },
          "metadata": {
            "needs_background": "light"
          }
        }
      ],
      "source": [
        "plt.imshow(attention[0][0])\n",
        "plt.colorbar()"
      ]
    }
  ],
  "metadata": {
    "accelerator": "GPU",
    "colab": {
      "collapsed_sections": [],
      "name": "CIFAR100_VisionTransformer_torch.ipynb",
      "provenance": [],
      "authorship_tag": "ABX9TyMELPDWOcQtZZ8K0bisz0vM",
      "include_colab_link": true
    },
    "kernelspec": {
      "display_name": "Python 3",
      "name": "python3"
    },
    "language_info": {
      "name": "python"
    },
    "widgets": {
      "application/vnd.jupyter.widget-state+json": {
        "2ca31e3ac1974e038983d915ccbb6d1c": {
          "model_module": "@jupyter-widgets/controls",
          "model_name": "HBoxModel",
          "model_module_version": "1.5.0",
          "state": {
            "_dom_classes": [],
            "_model_module": "@jupyter-widgets/controls",
            "_model_module_version": "1.5.0",
            "_model_name": "HBoxModel",
            "_view_count": null,
            "_view_module": "@jupyter-widgets/controls",
            "_view_module_version": "1.5.0",
            "_view_name": "HBoxView",
            "box_style": "",
            "children": [
              "IPY_MODEL_e1b2fd9fa0874154914b27eea0a3277b",
              "IPY_MODEL_22f004fa161e4e68902ece28f62ec73d",
              "IPY_MODEL_7adcd399093445a39e8f7a6e0674c768"
            ],
            "layout": "IPY_MODEL_10586297fe6b4ce2bef5473e3b6fe866"
          }
        },
        "e1b2fd9fa0874154914b27eea0a3277b": {
          "model_module": "@jupyter-widgets/controls",
          "model_name": "HTMLModel",
          "model_module_version": "1.5.0",
          "state": {
            "_dom_classes": [],
            "_model_module": "@jupyter-widgets/controls",
            "_model_module_version": "1.5.0",
            "_model_name": "HTMLModel",
            "_view_count": null,
            "_view_module": "@jupyter-widgets/controls",
            "_view_module_version": "1.5.0",
            "_view_name": "HTMLView",
            "description": "",
            "description_tooltip": null,
            "layout": "IPY_MODEL_420615bbfe564796be0f8cbcca0fe6dd",
            "placeholder": "​",
            "style": "IPY_MODEL_1b7e6bd5246a4c1dae33a81946b00070",
            "value": ""
          }
        },
        "22f004fa161e4e68902ece28f62ec73d": {
          "model_module": "@jupyter-widgets/controls",
          "model_name": "FloatProgressModel",
          "model_module_version": "1.5.0",
          "state": {
            "_dom_classes": [],
            "_model_module": "@jupyter-widgets/controls",
            "_model_module_version": "1.5.0",
            "_model_name": "FloatProgressModel",
            "_view_count": null,
            "_view_module": "@jupyter-widgets/controls",
            "_view_module_version": "1.5.0",
            "_view_name": "ProgressView",
            "bar_style": "success",
            "description": "",
            "description_tooltip": null,
            "layout": "IPY_MODEL_f936067d70a24a4caccac00cab2d6569",
            "max": 169001437,
            "min": 0,
            "orientation": "horizontal",
            "style": "IPY_MODEL_bb16f1658f7d4721959e1587c71255df",
            "value": 169001437
          }
        },
        "7adcd399093445a39e8f7a6e0674c768": {
          "model_module": "@jupyter-widgets/controls",
          "model_name": "HTMLModel",
          "model_module_version": "1.5.0",
          "state": {
            "_dom_classes": [],
            "_model_module": "@jupyter-widgets/controls",
            "_model_module_version": "1.5.0",
            "_model_name": "HTMLModel",
            "_view_count": null,
            "_view_module": "@jupyter-widgets/controls",
            "_view_module_version": "1.5.0",
            "_view_name": "HTMLView",
            "description": "",
            "description_tooltip": null,
            "layout": "IPY_MODEL_c0cb56af98954544b576c56d22260e5c",
            "placeholder": "​",
            "style": "IPY_MODEL_da21e70ab8d7473295472a24231513ec",
            "value": " 169001984/? [00:03&lt;00:00, 53924618.26it/s]"
          }
        },
        "10586297fe6b4ce2bef5473e3b6fe866": {
          "model_module": "@jupyter-widgets/base",
          "model_name": "LayoutModel",
          "model_module_version": "1.2.0",
          "state": {
            "_model_module": "@jupyter-widgets/base",
            "_model_module_version": "1.2.0",
            "_model_name": "LayoutModel",
            "_view_count": null,
            "_view_module": "@jupyter-widgets/base",
            "_view_module_version": "1.2.0",
            "_view_name": "LayoutView",
            "align_content": null,
            "align_items": null,
            "align_self": null,
            "border": null,
            "bottom": null,
            "display": null,
            "flex": null,
            "flex_flow": null,
            "grid_area": null,
            "grid_auto_columns": null,
            "grid_auto_flow": null,
            "grid_auto_rows": null,
            "grid_column": null,
            "grid_gap": null,
            "grid_row": null,
            "grid_template_areas": null,
            "grid_template_columns": null,
            "grid_template_rows": null,
            "height": null,
            "justify_content": null,
            "justify_items": null,
            "left": null,
            "margin": null,
            "max_height": null,
            "max_width": null,
            "min_height": null,
            "min_width": null,
            "object_fit": null,
            "object_position": null,
            "order": null,
            "overflow": null,
            "overflow_x": null,
            "overflow_y": null,
            "padding": null,
            "right": null,
            "top": null,
            "visibility": null,
            "width": null
          }
        },
        "420615bbfe564796be0f8cbcca0fe6dd": {
          "model_module": "@jupyter-widgets/base",
          "model_name": "LayoutModel",
          "model_module_version": "1.2.0",
          "state": {
            "_model_module": "@jupyter-widgets/base",
            "_model_module_version": "1.2.0",
            "_model_name": "LayoutModel",
            "_view_count": null,
            "_view_module": "@jupyter-widgets/base",
            "_view_module_version": "1.2.0",
            "_view_name": "LayoutView",
            "align_content": null,
            "align_items": null,
            "align_self": null,
            "border": null,
            "bottom": null,
            "display": null,
            "flex": null,
            "flex_flow": null,
            "grid_area": null,
            "grid_auto_columns": null,
            "grid_auto_flow": null,
            "grid_auto_rows": null,
            "grid_column": null,
            "grid_gap": null,
            "grid_row": null,
            "grid_template_areas": null,
            "grid_template_columns": null,
            "grid_template_rows": null,
            "height": null,
            "justify_content": null,
            "justify_items": null,
            "left": null,
            "margin": null,
            "max_height": null,
            "max_width": null,
            "min_height": null,
            "min_width": null,
            "object_fit": null,
            "object_position": null,
            "order": null,
            "overflow": null,
            "overflow_x": null,
            "overflow_y": null,
            "padding": null,
            "right": null,
            "top": null,
            "visibility": null,
            "width": null
          }
        },
        "1b7e6bd5246a4c1dae33a81946b00070": {
          "model_module": "@jupyter-widgets/controls",
          "model_name": "DescriptionStyleModel",
          "model_module_version": "1.5.0",
          "state": {
            "_model_module": "@jupyter-widgets/controls",
            "_model_module_version": "1.5.0",
            "_model_name": "DescriptionStyleModel",
            "_view_count": null,
            "_view_module": "@jupyter-widgets/base",
            "_view_module_version": "1.2.0",
            "_view_name": "StyleView",
            "description_width": ""
          }
        },
        "f936067d70a24a4caccac00cab2d6569": {
          "model_module": "@jupyter-widgets/base",
          "model_name": "LayoutModel",
          "model_module_version": "1.2.0",
          "state": {
            "_model_module": "@jupyter-widgets/base",
            "_model_module_version": "1.2.0",
            "_model_name": "LayoutModel",
            "_view_count": null,
            "_view_module": "@jupyter-widgets/base",
            "_view_module_version": "1.2.0",
            "_view_name": "LayoutView",
            "align_content": null,
            "align_items": null,
            "align_self": null,
            "border": null,
            "bottom": null,
            "display": null,
            "flex": null,
            "flex_flow": null,
            "grid_area": null,
            "grid_auto_columns": null,
            "grid_auto_flow": null,
            "grid_auto_rows": null,
            "grid_column": null,
            "grid_gap": null,
            "grid_row": null,
            "grid_template_areas": null,
            "grid_template_columns": null,
            "grid_template_rows": null,
            "height": null,
            "justify_content": null,
            "justify_items": null,
            "left": null,
            "margin": null,
            "max_height": null,
            "max_width": null,
            "min_height": null,
            "min_width": null,
            "object_fit": null,
            "object_position": null,
            "order": null,
            "overflow": null,
            "overflow_x": null,
            "overflow_y": null,
            "padding": null,
            "right": null,
            "top": null,
            "visibility": null,
            "width": null
          }
        },
        "bb16f1658f7d4721959e1587c71255df": {
          "model_module": "@jupyter-widgets/controls",
          "model_name": "ProgressStyleModel",
          "model_module_version": "1.5.0",
          "state": {
            "_model_module": "@jupyter-widgets/controls",
            "_model_module_version": "1.5.0",
            "_model_name": "ProgressStyleModel",
            "_view_count": null,
            "_view_module": "@jupyter-widgets/base",
            "_view_module_version": "1.2.0",
            "_view_name": "StyleView",
            "bar_color": null,
            "description_width": ""
          }
        },
        "c0cb56af98954544b576c56d22260e5c": {
          "model_module": "@jupyter-widgets/base",
          "model_name": "LayoutModel",
          "model_module_version": "1.2.0",
          "state": {
            "_model_module": "@jupyter-widgets/base",
            "_model_module_version": "1.2.0",
            "_model_name": "LayoutModel",
            "_view_count": null,
            "_view_module": "@jupyter-widgets/base",
            "_view_module_version": "1.2.0",
            "_view_name": "LayoutView",
            "align_content": null,
            "align_items": null,
            "align_self": null,
            "border": null,
            "bottom": null,
            "display": null,
            "flex": null,
            "flex_flow": null,
            "grid_area": null,
            "grid_auto_columns": null,
            "grid_auto_flow": null,
            "grid_auto_rows": null,
            "grid_column": null,
            "grid_gap": null,
            "grid_row": null,
            "grid_template_areas": null,
            "grid_template_columns": null,
            "grid_template_rows": null,
            "height": null,
            "justify_content": null,
            "justify_items": null,
            "left": null,
            "margin": null,
            "max_height": null,
            "max_width": null,
            "min_height": null,
            "min_width": null,
            "object_fit": null,
            "object_position": null,
            "order": null,
            "overflow": null,
            "overflow_x": null,
            "overflow_y": null,
            "padding": null,
            "right": null,
            "top": null,
            "visibility": null,
            "width": null
          }
        },
        "da21e70ab8d7473295472a24231513ec": {
          "model_module": "@jupyter-widgets/controls",
          "model_name": "DescriptionStyleModel",
          "model_module_version": "1.5.0",
          "state": {
            "_model_module": "@jupyter-widgets/controls",
            "_model_module_version": "1.5.0",
            "_model_name": "DescriptionStyleModel",
            "_view_count": null,
            "_view_module": "@jupyter-widgets/base",
            "_view_module_version": "1.2.0",
            "_view_name": "StyleView",
            "description_width": ""
          }
        }
      }
    }
  },
  "nbformat": 4,
  "nbformat_minor": 0
}
